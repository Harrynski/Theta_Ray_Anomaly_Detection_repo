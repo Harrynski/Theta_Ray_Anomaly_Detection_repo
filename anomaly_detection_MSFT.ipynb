{
 "cells": [
  {
   "cell_type": "code",
   "execution_count": 52,
   "metadata": {},
   "outputs": [],
   "source": [
    "import pandas as pd\n",
    "import numpy as np\n",
    "from sklearn.neighbors import LocalOutlierFactor"
   ]
  },
  {
   "cell_type": "code",
   "execution_count": 87,
   "metadata": {},
   "outputs": [],
   "source": [
    "og_data = pd.read_excel(rf'Files/TXS que el collector no ve NOV23 al final del mes.xlsx')\n",
    "og_data = og_data.rename(columns={'Id_x':'Id'})\n",
    "og_data['Date'] = og_data.CreatedAt.dt.date"
   ]
  },
  {
   "cell_type": "code",
   "execution_count": 88,
   "metadata": {},
   "outputs": [],
   "source": [
    "og_data = og_data.astype({'TransactionId':'str', 'SenderPhoneNumber':'str' })"
   ]
  },
  {
   "cell_type": "markdown",
   "metadata": {},
   "source": [
    "# MSFT GUIDE"
   ]
  },
  {
   "cell_type": "markdown",
   "metadata": {},
   "source": [
    "# Feature Engineering"
   ]
  },
  {
   "cell_type": "code",
   "execution_count": 89,
   "metadata": {},
   "outputs": [
    {
     "data": {
      "text/html": [
       "<div>\n",
       "<style scoped>\n",
       "    .dataframe tbody tr th:only-of-type {\n",
       "        vertical-align: middle;\n",
       "    }\n",
       "\n",
       "    .dataframe tbody tr th {\n",
       "        vertical-align: top;\n",
       "    }\n",
       "\n",
       "    .dataframe thead th {\n",
       "        text-align: right;\n",
       "    }\n",
       "</style>\n",
       "<table border=\"1\" class=\"dataframe\">\n",
       "  <thead>\n",
       "    <tr style=\"text-align: right;\">\n",
       "      <th></th>\n",
       "      <th>CreatedAt</th>\n",
       "      <th>Id</th>\n",
       "      <th>TransactionId</th>\n",
       "      <th>Client</th>\n",
       "      <th>VendorCode</th>\n",
       "      <th>Status</th>\n",
       "      <th>CollectMethod</th>\n",
       "      <th>TargetCountry</th>\n",
       "      <th>TargetCurrency</th>\n",
       "      <th>NetAmountUSD</th>\n",
       "      <th>...</th>\n",
       "      <th>senderCountry</th>\n",
       "      <th>receiverFirstName</th>\n",
       "      <th>receiverLastName</th>\n",
       "      <th>receiverDocument</th>\n",
       "      <th>receiverDocumentType</th>\n",
       "      <th>receiverPhoneNumber</th>\n",
       "      <th>receiverCountry</th>\n",
       "      <th>receiverBankAccountNumber</th>\n",
       "      <th>receiverBankAccountType</th>\n",
       "      <th>Date</th>\n",
       "    </tr>\n",
       "  </thead>\n",
       "  <tbody>\n",
       "    <tr>\n",
       "      <th>0</th>\n",
       "      <td>2023-11-22 17:31:27.991</td>\n",
       "      <td>90BDB5C9-AD84-4C1A-85D5-5C106BA6FA2A</td>\n",
       "      <td>1277528</td>\n",
       "      <td>SANTANDERCHL</td>\n",
       "      <td>TRANSFERZERO</td>\n",
       "      <td>COMPLETED</td>\n",
       "      <td>BANK_ACCOUNT</td>\n",
       "      <td>ESP</td>\n",
       "      <td>EUR</td>\n",
       "      <td>5441.022042</td>\n",
       "      <td>...</td>\n",
       "      <td>CHL</td>\n",
       "      <td>Mirko</td>\n",
       "      <td>Zlatar sepulveda</td>\n",
       "      <td>X3660543R</td>\n",
       "      <td>5</td>\n",
       "      <td>+34651310338</td>\n",
       "      <td>ESP</td>\n",
       "      <td>ES5000817440190002109412</td>\n",
       "      <td>1.0</td>\n",
       "      <td>2023-11-22</td>\n",
       "    </tr>\n",
       "    <tr>\n",
       "      <th>1</th>\n",
       "      <td>2023-11-30 21:04:50.916</td>\n",
       "      <td>81465787-552A-49CE-8DA2-F23D4E09A796</td>\n",
       "      <td>1302804</td>\n",
       "      <td>SANTANDERCHL</td>\n",
       "      <td>TRANSFERZERO</td>\n",
       "      <td>COMPLETED</td>\n",
       "      <td>BANK_ACCOUNT</td>\n",
       "      <td>ESP</td>\n",
       "      <td>EUR</td>\n",
       "      <td>2721.651280</td>\n",
       "      <td>...</td>\n",
       "      <td>CHL</td>\n",
       "      <td>Ana Isabel</td>\n",
       "      <td>Munoz Moreno</td>\n",
       "      <td>21475223P</td>\n",
       "      <td>5</td>\n",
       "      <td>+56979636853</td>\n",
       "      <td>ESP</td>\n",
       "      <td>ES9300494558962790001655</td>\n",
       "      <td>1.0</td>\n",
       "      <td>2023-11-30</td>\n",
       "    </tr>\n",
       "    <tr>\n",
       "      <th>2</th>\n",
       "      <td>2023-11-07 15:24:58.947</td>\n",
       "      <td>4E8FC322-555C-4CBF-AF4A-BA2180FA75B0</td>\n",
       "      <td>1226955</td>\n",
       "      <td>SANTANDERCHL</td>\n",
       "      <td>COBRU</td>\n",
       "      <td>COMPLETED</td>\n",
       "      <td>BANK_ACCOUNT</td>\n",
       "      <td>COL</td>\n",
       "      <td>COP</td>\n",
       "      <td>2548.889692</td>\n",
       "      <td>...</td>\n",
       "      <td>CHL</td>\n",
       "      <td>Juan David</td>\n",
       "      <td>Alvarez Palau</td>\n",
       "      <td>75102633</td>\n",
       "      <td>5</td>\n",
       "      <td>+573017877862</td>\n",
       "      <td>COL</td>\n",
       "      <td>1008494149</td>\n",
       "      <td>0.0</td>\n",
       "      <td>2023-11-07</td>\n",
       "    </tr>\n",
       "    <tr>\n",
       "      <th>3</th>\n",
       "      <td>2023-11-02 19:59:14.868</td>\n",
       "      <td>0C5381FA-23F5-4016-BDF5-298D6A64C773</td>\n",
       "      <td>1210171</td>\n",
       "      <td>SANTANDERCHL</td>\n",
       "      <td>TRANSFERZERO</td>\n",
       "      <td>COMPLETED</td>\n",
       "      <td>BANK_ACCOUNT</td>\n",
       "      <td>ESP</td>\n",
       "      <td>EUR</td>\n",
       "      <td>2230.651488</td>\n",
       "      <td>...</td>\n",
       "      <td>CHL</td>\n",
       "      <td>Bernardita Pilar</td>\n",
       "      <td>Castro Garay</td>\n",
       "      <td>Y9154869D</td>\n",
       "      <td>5</td>\n",
       "      <td>+34633810788</td>\n",
       "      <td>ESP</td>\n",
       "      <td>ES3800810646350001642765</td>\n",
       "      <td>1.0</td>\n",
       "      <td>2023-11-02</td>\n",
       "    </tr>\n",
       "    <tr>\n",
       "      <th>4</th>\n",
       "      <td>2023-11-30 19:48:12.852</td>\n",
       "      <td>A767BF8B-03F6-4825-9A7A-E3E65A05F4FA</td>\n",
       "      <td>1302462</td>\n",
       "      <td>SANTANDERCHL</td>\n",
       "      <td>TRANSFERZERO</td>\n",
       "      <td>COMPLETED</td>\n",
       "      <td>BANK_ACCOUNT</td>\n",
       "      <td>ESP</td>\n",
       "      <td>EUR</td>\n",
       "      <td>2178.305170</td>\n",
       "      <td>...</td>\n",
       "      <td>CHL</td>\n",
       "      <td>VALENTINA</td>\n",
       "      <td>VASQUEZ</td>\n",
       "      <td>04321243A</td>\n",
       "      <td>5</td>\n",
       "      <td>+347221468220</td>\n",
       "      <td>ESP</td>\n",
       "      <td>ES1600490542722213192466</td>\n",
       "      <td>1.0</td>\n",
       "      <td>2023-11-30</td>\n",
       "    </tr>\n",
       "    <tr>\n",
       "      <th>...</th>\n",
       "      <td>...</td>\n",
       "      <td>...</td>\n",
       "      <td>...</td>\n",
       "      <td>...</td>\n",
       "      <td>...</td>\n",
       "      <td>...</td>\n",
       "      <td>...</td>\n",
       "      <td>...</td>\n",
       "      <td>...</td>\n",
       "      <td>...</td>\n",
       "      <td>...</td>\n",
       "      <td>...</td>\n",
       "      <td>...</td>\n",
       "      <td>...</td>\n",
       "      <td>...</td>\n",
       "      <td>...</td>\n",
       "      <td>...</td>\n",
       "      <td>...</td>\n",
       "      <td>...</td>\n",
       "      <td>...</td>\n",
       "      <td>...</td>\n",
       "    </tr>\n",
       "    <tr>\n",
       "      <th>576</th>\n",
       "      <td>2023-11-17 17:50:35.043</td>\n",
       "      <td>8202FC47-5CC1-48F0-AD2E-42C3D481E818</td>\n",
       "      <td>1262869</td>\n",
       "      <td>BANCO_ESTADO</td>\n",
       "      <td>ITALCAMBIO</td>\n",
       "      <td>COMPLETED</td>\n",
       "      <td>BANK_ACCOUNT</td>\n",
       "      <td>VEN</td>\n",
       "      <td>VEF</td>\n",
       "      <td>1.770000</td>\n",
       "      <td>...</td>\n",
       "      <td>CHL</td>\n",
       "      <td>Solanyela</td>\n",
       "      <td>Gonzalez</td>\n",
       "      <td>V17081027</td>\n",
       "      <td>5</td>\n",
       "      <td>+584124525698</td>\n",
       "      <td>VEN</td>\n",
       "      <td>01020467410000403021</td>\n",
       "      <td>NaN</td>\n",
       "      <td>2023-11-17</td>\n",
       "    </tr>\n",
       "    <tr>\n",
       "      <th>577</th>\n",
       "      <td>2023-11-18 17:21:23.449</td>\n",
       "      <td>830380AA-847F-434A-B3C7-CEDD18EFC494</td>\n",
       "      <td>1265920</td>\n",
       "      <td>BANCO_ESTADO</td>\n",
       "      <td>ITALCAMBIO</td>\n",
       "      <td>COMPLETED</td>\n",
       "      <td>BANK_ACCOUNT</td>\n",
       "      <td>VEN</td>\n",
       "      <td>VEF</td>\n",
       "      <td>1.430000</td>\n",
       "      <td>...</td>\n",
       "      <td>CHL</td>\n",
       "      <td>Maury Alejandra</td>\n",
       "      <td>Pena</td>\n",
       "      <td>V18349723</td>\n",
       "      <td>5</td>\n",
       "      <td>+584269013912</td>\n",
       "      <td>VEN</td>\n",
       "      <td>01910549191100037452</td>\n",
       "      <td>NaN</td>\n",
       "      <td>2023-11-18</td>\n",
       "    </tr>\n",
       "    <tr>\n",
       "      <th>578</th>\n",
       "      <td>2023-11-27 15:04:02.957</td>\n",
       "      <td>D20C555C-7414-4369-9048-6F162191295B</td>\n",
       "      <td>1290947</td>\n",
       "      <td>REMITEE</td>\n",
       "      <td>BANCOINDUSTRIAL</td>\n",
       "      <td>COMPLETED</td>\n",
       "      <td>BANK_ACCOUNT</td>\n",
       "      <td>ARG</td>\n",
       "      <td>ARS</td>\n",
       "      <td>1.392705</td>\n",
       "      <td>...</td>\n",
       "      <td>ARG</td>\n",
       "      <td>Gian</td>\n",
       "      <td>Ghiano</td>\n",
       "      <td>23380109409</td>\n",
       "      <td>7</td>\n",
       "      <td>+5491151754767</td>\n",
       "      <td>ARG</td>\n",
       "      <td>0070175030004051288535</td>\n",
       "      <td>NaN</td>\n",
       "      <td>2023-11-27</td>\n",
       "    </tr>\n",
       "    <tr>\n",
       "      <th>579</th>\n",
       "      <td>2023-11-30 19:41:06.440</td>\n",
       "      <td>BACA283D-C79E-4E28-9F88-DC285D6FD262</td>\n",
       "      <td>1302413</td>\n",
       "      <td>REMITEE</td>\n",
       "      <td>BANCOINDUSTRIAL</td>\n",
       "      <td>COMPLETED</td>\n",
       "      <td>BANK_ACCOUNT</td>\n",
       "      <td>ARG</td>\n",
       "      <td>ARS</td>\n",
       "      <td>1.387071</td>\n",
       "      <td>...</td>\n",
       "      <td>ARG</td>\n",
       "      <td>Test</td>\n",
       "      <td>TransaccionBancaria</td>\n",
       "      <td>23380109409</td>\n",
       "      <td>7</td>\n",
       "      <td>+5491151754767</td>\n",
       "      <td>ARG</td>\n",
       "      <td>0070175030004051288535</td>\n",
       "      <td>NaN</td>\n",
       "      <td>2023-11-30</td>\n",
       "    </tr>\n",
       "    <tr>\n",
       "      <th>580</th>\n",
       "      <td>2023-11-19 15:21:07.702</td>\n",
       "      <td>C57310B3-09EE-4634-A23A-BC31353E9FF1</td>\n",
       "      <td>1267171</td>\n",
       "      <td>MONEYGRAM2</td>\n",
       "      <td>BANCOINDUSTRIAL</td>\n",
       "      <td>COMPLETED</td>\n",
       "      <td>BANK_ACCOUNT</td>\n",
       "      <td>ARG</td>\n",
       "      <td>ARS</td>\n",
       "      <td>1.044455</td>\n",
       "      <td>...</td>\n",
       "      <td>ITA</td>\n",
       "      <td>SASHA</td>\n",
       "      <td>PAEZ</td>\n",
       "      <td>23452857804</td>\n",
       "      <td>7</td>\n",
       "      <td>+541133634189</td>\n",
       "      <td>ARG</td>\n",
       "      <td>0000003100078657744190</td>\n",
       "      <td>NaN</td>\n",
       "      <td>2023-11-19</td>\n",
       "    </tr>\n",
       "  </tbody>\n",
       "</table>\n",
       "<p>555 rows × 30 columns</p>\n",
       "</div>"
      ],
      "text/plain": [
       "                  CreatedAt                                    Id  \\\n",
       "0   2023-11-22 17:31:27.991  90BDB5C9-AD84-4C1A-85D5-5C106BA6FA2A   \n",
       "1   2023-11-30 21:04:50.916  81465787-552A-49CE-8DA2-F23D4E09A796   \n",
       "2   2023-11-07 15:24:58.947  4E8FC322-555C-4CBF-AF4A-BA2180FA75B0   \n",
       "3   2023-11-02 19:59:14.868  0C5381FA-23F5-4016-BDF5-298D6A64C773   \n",
       "4   2023-11-30 19:48:12.852  A767BF8B-03F6-4825-9A7A-E3E65A05F4FA   \n",
       "..                      ...                                   ...   \n",
       "576 2023-11-17 17:50:35.043  8202FC47-5CC1-48F0-AD2E-42C3D481E818   \n",
       "577 2023-11-18 17:21:23.449  830380AA-847F-434A-B3C7-CEDD18EFC494   \n",
       "578 2023-11-27 15:04:02.957  D20C555C-7414-4369-9048-6F162191295B   \n",
       "579 2023-11-30 19:41:06.440  BACA283D-C79E-4E28-9F88-DC285D6FD262   \n",
       "580 2023-11-19 15:21:07.702  C57310B3-09EE-4634-A23A-BC31353E9FF1   \n",
       "\n",
       "    TransactionId        Client       VendorCode     Status CollectMethod  \\\n",
       "0         1277528  SANTANDERCHL     TRANSFERZERO  COMPLETED  BANK_ACCOUNT   \n",
       "1         1302804  SANTANDERCHL     TRANSFERZERO  COMPLETED  BANK_ACCOUNT   \n",
       "2         1226955  SANTANDERCHL            COBRU  COMPLETED  BANK_ACCOUNT   \n",
       "3         1210171  SANTANDERCHL     TRANSFERZERO  COMPLETED  BANK_ACCOUNT   \n",
       "4         1302462  SANTANDERCHL     TRANSFERZERO  COMPLETED  BANK_ACCOUNT   \n",
       "..            ...           ...              ...        ...           ...   \n",
       "576       1262869  BANCO_ESTADO       ITALCAMBIO  COMPLETED  BANK_ACCOUNT   \n",
       "577       1265920  BANCO_ESTADO       ITALCAMBIO  COMPLETED  BANK_ACCOUNT   \n",
       "578       1290947       REMITEE  BANCOINDUSTRIAL  COMPLETED  BANK_ACCOUNT   \n",
       "579       1302413       REMITEE  BANCOINDUSTRIAL  COMPLETED  BANK_ACCOUNT   \n",
       "580       1267171    MONEYGRAM2  BANCOINDUSTRIAL  COMPLETED  BANK_ACCOUNT   \n",
       "\n",
       "    TargetCountry TargetCurrency  NetAmountUSD  ...  senderCountry  \\\n",
       "0             ESP            EUR   5441.022042  ...            CHL   \n",
       "1             ESP            EUR   2721.651280  ...            CHL   \n",
       "2             COL            COP   2548.889692  ...            CHL   \n",
       "3             ESP            EUR   2230.651488  ...            CHL   \n",
       "4             ESP            EUR   2178.305170  ...            CHL   \n",
       "..            ...            ...           ...  ...            ...   \n",
       "576           VEN            VEF      1.770000  ...            CHL   \n",
       "577           VEN            VEF      1.430000  ...            CHL   \n",
       "578           ARG            ARS      1.392705  ...            ARG   \n",
       "579           ARG            ARS      1.387071  ...            ARG   \n",
       "580           ARG            ARS      1.044455  ...            ITA   \n",
       "\n",
       "     receiverFirstName     receiverLastName  receiverDocument  \\\n",
       "0                Mirko     Zlatar sepulveda         X3660543R   \n",
       "1           Ana Isabel         Munoz Moreno         21475223P   \n",
       "2           Juan David        Alvarez Palau          75102633   \n",
       "3     Bernardita Pilar         Castro Garay         Y9154869D   \n",
       "4            VALENTINA              VASQUEZ         04321243A   \n",
       "..                 ...                  ...               ...   \n",
       "576          Solanyela            Gonzalez          V17081027   \n",
       "577    Maury Alejandra                Pena          V18349723   \n",
       "578               Gian               Ghiano       23380109409   \n",
       "579               Test  TransaccionBancaria       23380109409   \n",
       "580             SASHA                 PAEZ        23452857804   \n",
       "\n",
       "     receiverDocumentType receiverPhoneNumber receiverCountry  \\\n",
       "0                       5        +34651310338             ESP   \n",
       "1                       5        +56979636853             ESP   \n",
       "2                       5       +573017877862             COL   \n",
       "3                       5        +34633810788             ESP   \n",
       "4                       5       +347221468220             ESP   \n",
       "..                    ...                 ...             ...   \n",
       "576                     5       +584124525698             VEN   \n",
       "577                     5       +584269013912             VEN   \n",
       "578                     7      +5491151754767             ARG   \n",
       "579                     7      +5491151754767             ARG   \n",
       "580                     7       +541133634189             ARG   \n",
       "\n",
       "    receiverBankAccountNumber receiverBankAccountType        Date  \n",
       "0    ES5000817440190002109412                     1.0  2023-11-22  \n",
       "1    ES9300494558962790001655                     1.0  2023-11-30  \n",
       "2                  1008494149                     0.0  2023-11-07  \n",
       "3    ES3800810646350001642765                     1.0  2023-11-02  \n",
       "4    ES1600490542722213192466                     1.0  2023-11-30  \n",
       "..                        ...                     ...         ...  \n",
       "576      01020467410000403021                     NaN  2023-11-17  \n",
       "577      01910549191100037452                     NaN  2023-11-18  \n",
       "578    0070175030004051288535                     NaN  2023-11-27  \n",
       "579    0070175030004051288535                     NaN  2023-11-30  \n",
       "580    0000003100078657744190                     NaN  2023-11-19  \n",
       "\n",
       "[555 rows x 30 columns]"
      ]
     },
     "execution_count": 89,
     "metadata": {},
     "output_type": "execute_result"
    }
   ],
   "source": [
    "og_data = og_data[og_data.Status=='COMPLETED']\n",
    "og_data"
   ]
  },
  {
   "cell_type": "code",
   "execution_count": 90,
   "metadata": {},
   "outputs": [],
   "source": [
    "og_data = og_data[['CreatedAt', 'Date', 'Id', 'TransactionId', 'Client', 'VendorCode', 'TargetCountry', 'TargetCurrency', 'NetAmountUSD',\n",
    "       'SourceCountry', 'SenderFirstName',\n",
    "       'SenderLastName', 'SenderDocument', 'SenderPhoneNumber',\n",
    "       'senderCountry', 'receiverFirstName', 'receiverLastName',\n",
    "       'receiverDocument', 'receiverDocumentType', 'receiverPhoneNumber',\n",
    "       'receiverCountry', 'receiverBankAccountNumber',\n",
    "       'receiverBankAccountType']]"
   ]
  },
  {
   "cell_type": "code",
   "execution_count": 91,
   "metadata": {},
   "outputs": [],
   "source": [
    "def get_zscore(value, mean, std):\n",
    "    # calculate z-score or number of standard deviations from mean\n",
    "    if (\n",
    "        std == 0\n",
    "        or std is None\n",
    "        or str(std).lower() in [\"nan\", \"none\", \"null\"]\n",
    "        or mean is None\n",
    "    ):\n",
    "        if value == 0.0:\n",
    "            return 0.0\n",
    "        elif value != 0:\n",
    "            return value #np.log10(value + 1)\n",
    "    ans = (value - mean) / std\n",
    "    # only interested in increases\n",
    "    #ans = max(0.0, ans)\n",
    "    # take log to dampen numbers\n",
    "    #ans = np.log10(ans + 1)\n",
    "    return float(ans)"
   ]
  },
  {
   "cell_type": "code",
   "execution_count": 92,
   "metadata": {},
   "outputs": [],
   "source": [
    "data = og_data.copy()\n",
    "\n",
    "\n",
    "zscore_columns = [\n",
    "    \"NetAmountUSD\"\n",
    "]\n",
    "\n",
    "#usamos documento del enviador y phone number del recibidor porque son los que mas hay\n",
    "ind = ['Date', 'Client', 'VendorCode', 'SourceCountry', 'TargetCountry', 'TargetCurrency', \n",
    "    'SenderDocument', 'receiverPhoneNumber', 'receiverBankAccountNumber']\n",
    "\n",
    "means = [x + \"_\" + y + \"_mean\" for x in zscore_columns for y in ind]\n",
    "stds = [x + \"_\" + y + \"_std\" for x in zscore_columns for y in ind]\n",
    "zscores = [x + \"_\" + y + \"_zscore\" for x in zscore_columns for y in ind]\n",
    "\n",
    "zscore = data[zscore_columns + ind]\n",
    "zscore = zscore.fillna(0)\n",
    "\n",
    "\n",
    "for metric, index in zip(means,ind):\n",
    "    zscore[metric] = zscore.groupby([index])[zscore_columns].transform(\"mean\")\n",
    "\n",
    "for metric, index in zip(stds,ind):\n",
    "    zscore[metric] = zscore.groupby([index])[zscore_columns].transform(\"std\", ddof=1)\n",
    "\n",
    "\n",
    "zscore = zscore.drop_duplicates(ind)\n",
    "zscore = zscore[means + stds + ind]\n",
    "data = data.merge(zscore, how=\"left\", on=ind)\n",
    "\n",
    "\n",
    "from itertools import product\n",
    "\n",
    "for column,feature in product(zscore_columns, ind):\n",
    "    data[f\"{column}_{feature}_zscore\"] = data.apply(\n",
    "        lambda row: get_zscore(\n",
    "            row[f\"{column}\"], row[f\"{column}_{feature}_mean\"], row[f\"{column}_{feature}_std\"]\n",
    "        ),\n",
    "        axis=1,\n",
    "    )\n"
   ]
  },
  {
   "cell_type": "markdown",
   "metadata": {},
   "source": [
    "### Counts by sender"
   ]
  },
  {
   "cell_type": "code",
   "execution_count": 93,
   "metadata": {},
   "outputs": [],
   "source": [
    "sender_count_columns=['Id', 'Date', 'Client', 'VendorCode', 'TargetCountry', 'TargetCurrency',  'receiverPhoneNumber', 'receiverBankAccountNumber']\n",
    "sender_count_ind = ['SenderDocument']\n",
    "\n",
    "sender_counts = [\"Sender_\" + x + \"_count\" for x in sender_count_columns]\n",
    "\n",
    "sender_count = data[sender_count_columns + sender_count_ind]\n",
    "sender_count = sender_count.fillna(0)\n",
    "\n",
    "for column  in sender_count_columns:\n",
    "    #print(column)\n",
    "    sender_count[f\"Sender_{column}_count\"] = sender_count.groupby('SenderDocument')[column].transform(\"nunique\")\n",
    "\n",
    "sender_count = sender_count.drop_duplicates(sender_count_ind)\n",
    "sender_count = sender_count[sender_counts + sender_count_ind]\n",
    "\n",
    "for att in sender_counts:\n",
    "    if (sender_count[att].max()==1):\n",
    "        sender_count.drop(columns={att}, inplace=True)\n"
   ]
  },
  {
   "cell_type": "code",
   "execution_count": 94,
   "metadata": {},
   "outputs": [],
   "source": [
    "data = data.merge(sender_count, how=\"left\", on=sender_count_ind)"
   ]
  },
  {
   "cell_type": "markdown",
   "metadata": {},
   "source": [
    "### Counts by receiver"
   ]
  },
  {
   "cell_type": "code",
   "execution_count": 95,
   "metadata": {},
   "outputs": [],
   "source": [
    "receiver_count_columns=['Id', 'Date', 'Client', 'VendorCode', 'SourceCountry', 'SenderDocument']\n",
    "receiver_count_ind = ['receiverPhoneNumber']\n",
    "\n",
    "receiver_counts = [\"receiver_\" + x + \"_count\" for x in receiver_count_columns]\n",
    "\n",
    "receiver_count = data[receiver_count_columns + receiver_count_ind]\n",
    "receiver_count = receiver_count.fillna(0)\n",
    "\n",
    "for column  in receiver_count_columns:\n",
    "    #print(column)\n",
    "    receiver_count[f\"receiver_{column}_count\"] = receiver_count.groupby('receiverPhoneNumber')[column].transform(\"nunique\")\n",
    "\n",
    "receiver_count = receiver_count.drop_duplicates(receiver_count_ind)\n",
    "receiver_count = receiver_count[receiver_counts + receiver_count_ind]\n",
    "\n",
    "for att in receiver_counts:\n",
    "    if (receiver_count[att].max()==1):\n",
    "        receiver_count.drop(columns={att}, inplace=True)\n"
   ]
  },
  {
   "cell_type": "code",
   "execution_count": 96,
   "metadata": {},
   "outputs": [],
   "source": [
    "data = data.merge(receiver_count, how=\"left\", on=receiver_count_ind)"
   ]
  },
  {
   "cell_type": "markdown",
   "metadata": {},
   "source": [
    "### One hot encoding of categorical variables"
   ]
  },
  {
   "cell_type": "code",
   "execution_count": 105,
   "metadata": {},
   "outputs": [],
   "source": [
    "from sklearn.preprocessing import OneHotEncoder\n",
    "\n",
    "enc = OneHotEncoder(handle_unknown='ignore')\n",
    "categorical_features = ['Client', 'VendorCode','SourceCountry','TargetCountry', 'TargetCurrency']\n",
    "X=data[categorical_features]\n",
    "\n",
    "enc.fit(X)\n",
    "codes = enc.transform(X).toarray()\n",
    "encoded_categorical_features = enc.get_feature_names_out(categorical_features)\n"
   ]
  },
  {
   "cell_type": "code",
   "execution_count": 117,
   "metadata": {},
   "outputs": [
    {
     "data": {
      "text/plain": [
       "array(['Client_BANCO_ESTADO', 'Client_CHEK', 'Client_MONEYGRAM2',\n",
       "       'Client_MOVII', 'Client_PAPAYA', 'Client_PAYSEND', 'Client_PMI',\n",
       "       'Client_PREXCARD', 'Client_REMITEE', 'Client_REMITLY',\n",
       "       'Client_SANTANDERCHL', 'Client_TENPO', 'Client_UNITELLER',\n",
       "       'VendorCode_BANCOINDUSTRIAL', 'VendorCode_COBRU',\n",
       "       'VendorCode_COINAG', 'VendorCode_DLOCAL', 'VendorCode_EASYPAGOS',\n",
       "       'VendorCode_INTER', 'VendorCode_ITALCAMBIO',\n",
       "       'VendorCode_LOCALPAYMENT', 'VendorCode_PONTUAL',\n",
       "       'VendorCode_RADAR', 'VendorCode_RIPPLENET',\n",
       "       'VendorCode_TRANSFERZERO', 'VendorCode_UNITELLER',\n",
       "       'VendorCode_interbank', 'SourceCountry_ARE', 'SourceCountry_ARG',\n",
       "       'SourceCountry_AUS', 'SourceCountry_AUT', 'SourceCountry_CAN',\n",
       "       'SourceCountry_CHL', 'SourceCountry_COL', 'SourceCountry_DEU',\n",
       "       'SourceCountry_DNK', 'SourceCountry_ECU', 'SourceCountry_ESP',\n",
       "       'SourceCountry_EST', 'SourceCountry_GBR', 'SourceCountry_IRL',\n",
       "       'SourceCountry_ITA', 'SourceCountry_MEX', 'SourceCountry_MLT',\n",
       "       'SourceCountry_NLD', 'SourceCountry_NZL', 'SourceCountry_POL',\n",
       "       'SourceCountry_PRT', 'SourceCountry_USA', 'SourceCountry_VEN',\n",
       "       'TargetCountry_ARG', 'TargetCountry_BOL', 'TargetCountry_BRA',\n",
       "       'TargetCountry_CHL', 'TargetCountry_COL', 'TargetCountry_ECU',\n",
       "       'TargetCountry_ESP', 'TargetCountry_FRA', 'TargetCountry_HTI',\n",
       "       'TargetCountry_IRL', 'TargetCountry_MEX', 'TargetCountry_PER',\n",
       "       'TargetCountry_PRT', 'TargetCountry_USA', 'TargetCountry_VEN',\n",
       "       'TargetCurrency_ARS', 'TargetCurrency_BOB', 'TargetCurrency_BRL',\n",
       "       'TargetCurrency_CLP', 'TargetCurrency_COP', 'TargetCurrency_EUR',\n",
       "       'TargetCurrency_MXN', 'TargetCurrency_PEN', 'TargetCurrency_USD',\n",
       "       'TargetCurrency_VEF'], dtype=object)"
      ]
     },
     "execution_count": 117,
     "metadata": {},
     "output_type": "execute_result"
    }
   ],
   "source": [
    "data = pd.concat([data.drop(columns=categorical_features), pd.DataFrame(codes,columns=encoded_categorical_features).astype(int)], axis=1)\n",
    "encoded_categorical_features"
   ]
  },
  {
   "cell_type": "code",
   "execution_count": null,
   "metadata": {},
   "outputs": [],
   "source": [
    "X"
   ]
  },
  {
   "cell_type": "markdown",
   "metadata": {},
   "source": [
    "# Isolation Forest application"
   ]
  },
  {
   "cell_type": "code",
   "execution_count": 123,
   "metadata": {},
   "outputs": [],
   "source": [
    "def apply_isolation_forest(df, n_estimators, contamination=0.01):\n",
    "    \"\"\"Applies Isolation Forest to a given dataset and returns the predicted anomalies.\"\"\"\n",
    "    clf = IsolationForest(\n",
    "        n_estimators=n_estimators,\n",
    "        max_samples=\"auto\",\n",
    "        contamination=contamination,\n",
    "        max_features=6,\n",
    "        bootstrap=False,\n",
    "        n_jobs=-1,\n",
    "        random_state=42,\n",
    "        verbose=0,\n",
    "    )\n",
    "    clf.fit(df.values)\n",
    "    pred = clf.predict(df.values)\n",
    "    scores = clf.decision_function(df.values)\n",
    "    return clf, pred, scores\n",
    "\n",
    "# specify the metrics column names to be modelled\n",
    "features = [\n",
    "    'NetAmountUSD', \n",
    "       'NetAmountUSD_Date_mean',\n",
    "       'NetAmountUSD_Client_mean', 'NetAmountUSD_VendorCode_mean',\n",
    "       'NetAmountUSD_SourceCountry_mean', 'NetAmountUSD_TargetCountry_mean',\n",
    "       'NetAmountUSD_TargetCurrency_mean', 'NetAmountUSD_SenderDocument_mean',\n",
    "       'NetAmountUSD_receiverPhoneNumber_mean',\n",
    "       'NetAmountUSD_receiverBankAccountNumber_mean', 'NetAmountUSD_Date_std',\n",
    "       'NetAmountUSD_Client_std', 'NetAmountUSD_VendorCode_std',\n",
    "       'NetAmountUSD_SourceCountry_std', 'NetAmountUSD_TargetCountry_std',\n",
    "       'NetAmountUSD_TargetCurrency_std', 'NetAmountUSD_SenderDocument_std',\n",
    "       'NetAmountUSD_receiverPhoneNumber_std',\n",
    "       'NetAmountUSD_receiverBankAccountNumber_std',\n",
    "       'NetAmountUSD_Date_zscore', 'NetAmountUSD_Client_zscore',\n",
    "       'NetAmountUSD_VendorCode_zscore', 'NetAmountUSD_SourceCountry_zscore',\n",
    "       'NetAmountUSD_TargetCountry_zscore',\n",
    "       'NetAmountUSD_TargetCurrency_zscore',\n",
    "       'NetAmountUSD_SenderDocument_zscore',\n",
    "       'NetAmountUSD_receiverPhoneNumber_zscore',\n",
    "       'NetAmountUSD_receiverBankAccountNumber_zscore', 'Sender_Id_count',\n",
    "       'Sender_Date_count', 'Sender_VendorCode_count',\n",
    "       'Sender_receiverPhoneNumber_count',\n",
    "       'Sender_receiverBankAccountNumber_count', 'receiver_Id_count',\n",
    "       'receiver_Date_count', 'receiver_VendorCode_count',\n",
    "       'receiver_SenderDocument_count'\n",
    "] + list(encoded_categorical_features)\n"
   ]
  },
  {
   "cell_type": "code",
   "execution_count": 124,
   "metadata": {},
   "outputs": [
    {
     "name": "stdout",
     "output_type": "stream",
     "text": [
      "Number of trees 100\n"
     ]
    }
   ],
   "source": [
    "X = data[features].copy()\n",
    "X = X.fillna(0)\n",
    "\n",
    "if X.shape[0] < 500:\n",
    "    n_estimators = len(features) * 4 + X.shape[0] * 2\n",
    "else:\n",
    "    n_estimators = 100\n",
    "\n",
    "# n_estimators = 100\n",
    "print(\"Number of trees\", n_estimators)\n",
    "\n",
    "clf, pred, scores = apply_isolation_forest(X, n_estimators, contamination=0.01)\n",
    "data[\"anomaly\"] = pred\n",
    "data[\"score\"] = scores\n",
    "# excluding users who do not have any successful logon history.\n"
   ]
  },
  {
   "cell_type": "code",
   "execution_count": 127,
   "metadata": {},
   "outputs": [
    {
     "name": "stdout",
     "output_type": "stream",
     "text": [
      "Outliers at indexes: [0, 2, 3, 4, 9, 12]\n",
      " 1    549\n",
      "-1      6\n",
      "Name: anomaly, dtype: int64\n"
     ]
    }
   ],
   "source": [
    "outliers = data.loc[data[\"anomaly\"] == -1]\n",
    "outlier_index = list(outliers.index)\n",
    "print(f\"Outliers at indexes: {outlier_index}\")\n",
    "# Find the number of anomalies and normal points here points classified -1 are anomalous\n",
    "print(data[\"anomaly\"].value_counts())"
   ]
  },
  {
   "cell_type": "code",
   "execution_count": 128,
   "metadata": {},
   "outputs": [
    {
     "name": "stdout",
     "output_type": "stream",
     "text": [
      "Number of outliers: 6\n",
      "Top anomalies by score (top most has highest anomaly score and so on)\n"
     ]
    },
    {
     "data": {
      "text/html": [
       "<div>\n",
       "<style scoped>\n",
       "    .dataframe tbody tr th:only-of-type {\n",
       "        vertical-align: middle;\n",
       "    }\n",
       "\n",
       "    .dataframe tbody tr th {\n",
       "        vertical-align: top;\n",
       "    }\n",
       "\n",
       "    .dataframe thead th {\n",
       "        text-align: right;\n",
       "    }\n",
       "</style>\n",
       "<table border=\"1\" class=\"dataframe\">\n",
       "  <thead>\n",
       "    <tr style=\"text-align: right;\">\n",
       "      <th></th>\n",
       "      <th>CreatedAt</th>\n",
       "      <th>Date</th>\n",
       "      <th>Id</th>\n",
       "      <th>TransactionId</th>\n",
       "      <th>NetAmountUSD</th>\n",
       "      <th>SenderFirstName</th>\n",
       "      <th>SenderLastName</th>\n",
       "      <th>SenderDocument</th>\n",
       "      <th>SenderPhoneNumber</th>\n",
       "      <th>senderCountry</th>\n",
       "      <th>...</th>\n",
       "      <th>TargetCurrency_BRL</th>\n",
       "      <th>TargetCurrency_CLP</th>\n",
       "      <th>TargetCurrency_COP</th>\n",
       "      <th>TargetCurrency_EUR</th>\n",
       "      <th>TargetCurrency_MXN</th>\n",
       "      <th>TargetCurrency_PEN</th>\n",
       "      <th>TargetCurrency_USD</th>\n",
       "      <th>TargetCurrency_VEF</th>\n",
       "      <th>anomaly</th>\n",
       "      <th>score</th>\n",
       "    </tr>\n",
       "  </thead>\n",
       "  <tbody>\n",
       "    <tr>\n",
       "      <th>12</th>\n",
       "      <td>2023-11-06 23:09:04.561</td>\n",
       "      <td>2023-11-06</td>\n",
       "      <td>78408B13-F91A-4EB4-91CC-D7551C52E70A</td>\n",
       "      <td>1225028</td>\n",
       "      <td>1071.490714</td>\n",
       "      <td>ESTELA PAOLA</td>\n",
       "      <td>GARVIZU AGUILERA</td>\n",
       "      <td>Y09N87W4L</td>\n",
       "      <td>nan</td>\n",
       "      <td>DEU</td>\n",
       "      <td>...</td>\n",
       "      <td>0</td>\n",
       "      <td>0</td>\n",
       "      <td>0</td>\n",
       "      <td>0</td>\n",
       "      <td>0</td>\n",
       "      <td>0</td>\n",
       "      <td>0</td>\n",
       "      <td>0</td>\n",
       "      <td>-1</td>\n",
       "      <td>-0.001657</td>\n",
       "    </tr>\n",
       "    <tr>\n",
       "      <th>9</th>\n",
       "      <td>2023-11-02 15:27:04.683</td>\n",
       "      <td>2023-11-02</td>\n",
       "      <td>5923AF69-83A1-4FF4-AFC9-8B326CF91256</td>\n",
       "      <td>1209043</td>\n",
       "      <td>1492.560523</td>\n",
       "      <td>Uriel</td>\n",
       "      <td>Bertran</td>\n",
       "      <td>46702672E</td>\n",
       "      <td>nan</td>\n",
       "      <td>ESP</td>\n",
       "      <td>...</td>\n",
       "      <td>0</td>\n",
       "      <td>0</td>\n",
       "      <td>1</td>\n",
       "      <td>0</td>\n",
       "      <td>0</td>\n",
       "      <td>0</td>\n",
       "      <td>0</td>\n",
       "      <td>0</td>\n",
       "      <td>-1</td>\n",
       "      <td>-0.009308</td>\n",
       "    </tr>\n",
       "    <tr>\n",
       "      <th>4</th>\n",
       "      <td>2023-11-30 19:48:12.852</td>\n",
       "      <td>2023-11-30</td>\n",
       "      <td>A767BF8B-03F6-4825-9A7A-E3E65A05F4FA</td>\n",
       "      <td>1302462</td>\n",
       "      <td>2178.305170</td>\n",
       "      <td>WILLIAM LARRY</td>\n",
       "      <td>VASQUEZ ORTEGA</td>\n",
       "      <td>00109178497</td>\n",
       "      <td>56966098213.0</td>\n",
       "      <td>CHL</td>\n",
       "      <td>...</td>\n",
       "      <td>0</td>\n",
       "      <td>0</td>\n",
       "      <td>0</td>\n",
       "      <td>1</td>\n",
       "      <td>0</td>\n",
       "      <td>0</td>\n",
       "      <td>0</td>\n",
       "      <td>0</td>\n",
       "      <td>-1</td>\n",
       "      <td>-0.012021</td>\n",
       "    </tr>\n",
       "    <tr>\n",
       "      <th>3</th>\n",
       "      <td>2023-11-02 19:59:14.868</td>\n",
       "      <td>2023-11-02</td>\n",
       "      <td>0C5381FA-23F5-4016-BDF5-298D6A64C773</td>\n",
       "      <td>1210171</td>\n",
       "      <td>2230.651488</td>\n",
       "      <td>MARIA RAQUEL</td>\n",
       "      <td>MEJIAS SILVA</td>\n",
       "      <td>00052005191</td>\n",
       "      <td>56952214701.0</td>\n",
       "      <td>CHL</td>\n",
       "      <td>...</td>\n",
       "      <td>0</td>\n",
       "      <td>0</td>\n",
       "      <td>0</td>\n",
       "      <td>1</td>\n",
       "      <td>0</td>\n",
       "      <td>0</td>\n",
       "      <td>0</td>\n",
       "      <td>0</td>\n",
       "      <td>-1</td>\n",
       "      <td>-0.014998</td>\n",
       "    </tr>\n",
       "    <tr>\n",
       "      <th>2</th>\n",
       "      <td>2023-11-07 15:24:58.947</td>\n",
       "      <td>2023-11-07</td>\n",
       "      <td>4E8FC322-555C-4CBF-AF4A-BA2180FA75B0</td>\n",
       "      <td>1226955</td>\n",
       "      <td>2548.889692</td>\n",
       "      <td>BRAYHAN BORIS</td>\n",
       "      <td>BUENO CORTES</td>\n",
       "      <td>00244993249</td>\n",
       "      <td>56967886270.0</td>\n",
       "      <td>CHL</td>\n",
       "      <td>...</td>\n",
       "      <td>0</td>\n",
       "      <td>0</td>\n",
       "      <td>1</td>\n",
       "      <td>0</td>\n",
       "      <td>0</td>\n",
       "      <td>0</td>\n",
       "      <td>0</td>\n",
       "      <td>0</td>\n",
       "      <td>-1</td>\n",
       "      <td>-0.032611</td>\n",
       "    </tr>\n",
       "  </tbody>\n",
       "</table>\n",
       "<p>5 rows × 131 columns</p>\n",
       "</div>"
      ],
      "text/plain": [
       "                 CreatedAt        Date                                    Id  \\\n",
       "12 2023-11-06 23:09:04.561  2023-11-06  78408B13-F91A-4EB4-91CC-D7551C52E70A   \n",
       "9  2023-11-02 15:27:04.683  2023-11-02  5923AF69-83A1-4FF4-AFC9-8B326CF91256   \n",
       "4  2023-11-30 19:48:12.852  2023-11-30  A767BF8B-03F6-4825-9A7A-E3E65A05F4FA   \n",
       "3  2023-11-02 19:59:14.868  2023-11-02  0C5381FA-23F5-4016-BDF5-298D6A64C773   \n",
       "2  2023-11-07 15:24:58.947  2023-11-07  4E8FC322-555C-4CBF-AF4A-BA2180FA75B0   \n",
       "\n",
       "   TransactionId  NetAmountUSD SenderFirstName    SenderLastName  \\\n",
       "12       1225028   1071.490714    ESTELA PAOLA  GARVIZU AGUILERA   \n",
       "9        1209043   1492.560523           Uriel           Bertran   \n",
       "4        1302462   2178.305170   WILLIAM LARRY    VASQUEZ ORTEGA   \n",
       "3        1210171   2230.651488    MARIA RAQUEL      MEJIAS SILVA   \n",
       "2        1226955   2548.889692   BRAYHAN BORIS      BUENO CORTES   \n",
       "\n",
       "   SenderDocument SenderPhoneNumber senderCountry  ... TargetCurrency_BRL  \\\n",
       "12      Y09N87W4L               nan           DEU  ...                  0   \n",
       "9       46702672E               nan           ESP  ...                  0   \n",
       "4     00109178497     56966098213.0           CHL  ...                  0   \n",
       "3     00052005191     56952214701.0           CHL  ...                  0   \n",
       "2     00244993249     56967886270.0           CHL  ...                  0   \n",
       "\n",
       "   TargetCurrency_CLP TargetCurrency_COP  TargetCurrency_EUR  \\\n",
       "12                  0                  0                   0   \n",
       "9                   0                  1                   0   \n",
       "4                   0                  0                   1   \n",
       "3                   0                  0                   1   \n",
       "2                   0                  1                   0   \n",
       "\n",
       "   TargetCurrency_MXN TargetCurrency_PEN TargetCurrency_USD  \\\n",
       "12                  0                  0                  0   \n",
       "9                   0                  0                  0   \n",
       "4                   0                  0                  0   \n",
       "3                   0                  0                  0   \n",
       "2                   0                  0                  0   \n",
       "\n",
       "    TargetCurrency_VEF  anomaly     score  \n",
       "12                   0       -1 -0.001657  \n",
       "9                    0       -1 -0.009308  \n",
       "4                    0       -1 -0.012021  \n",
       "3                    0       -1 -0.014998  \n",
       "2                    0       -1 -0.032611  \n",
       "\n",
       "[5 rows x 131 columns]"
      ]
     },
     "metadata": {},
     "output_type": "display_data"
    }
   ],
   "source": [
    "print(\"Number of outliers:\", outliers.shape[0])\n",
    "print(\"Top anomalies by score (top most has highest anomaly score and so on)\")\n",
    "outliers = outliers.sort_values(by=[\"score\"], ascending=False)\n",
    "display(outliers.head())"
   ]
  },
  {
   "cell_type": "markdown",
   "metadata": {},
   "source": [
    "# Data Viz"
   ]
  },
  {
   "cell_type": "code",
   "execution_count": 130,
   "metadata": {},
   "outputs": [
    {
     "data": {
      "application/vnd.plotly.v1+json": {
       "config": {
        "plotlyServerURL": "https://plot.ly"
       },
       "data": [
        {
         "alignmentgroup": "True",
         "bingroup": "x",
         "hovertemplate": "anomaly_label=outlier<br>score=%{x}<br>count=%{y}<extra></extra>",
         "legendgroup": "outlier",
         "marker": {
          "color": "#636efa",
          "pattern": {
           "shape": ""
          }
         },
         "name": "outlier",
         "offsetgroup": "outlier",
         "orientation": "v",
         "showlegend": true,
         "type": "histogram",
         "x": [
          -0.07600162640764208,
          -0.03261063560451061,
          -0.014998304788356176,
          -0.012021440796093241,
          -0.00930789345212446,
          -0.0016571677408314667
         ],
         "xaxis": "x",
         "yaxis": "y"
        },
        {
         "alignmentgroup": "True",
         "bingroup": "x",
         "hovertemplate": "anomaly_label=inlier<br>score=%{x}<br>count=%{y}<extra></extra>",
         "legendgroup": "inlier",
         "marker": {
          "color": "#EF553B",
          "pattern": {
           "shape": ""
          }
         },
         "name": "inlier",
         "offsetgroup": "inlier",
         "orientation": "v",
         "showlegend": true,
         "type": "histogram",
         "x": [
          0.0027831226466624726,
          0.0072119733673382536,
          0.007612632240392436,
          0.02899389000907504,
          0.008563013099239125,
          0.01788486956952151,
          0.0014116614088565127,
          0.003001661624001839,
          0.036773507134144956,
          0.014011781599956419,
          0.0402124564638498,
          0.04724710440257879,
          0.04540183704683254,
          0.035558671553714116,
          0.020121106036985414,
          0.03708468399539716,
          0.029876192973890936,
          0.023770933753450352,
          0.06572923652861001,
          0.024253441082631555,
          0.02944668898610664,
          0.06288886917881781,
          0.03873332761666659,
          0.03918620798856942,
          0.058631386203309654,
          0.0398702438358306,
          0.04238115202698717,
          0.03191880685566384,
          0.03435146757019386,
          0.03793034883720248,
          0.03793034883720248,
          0.0647524343558658,
          0.053706476032464645,
          0.042265419062497145,
          0.05355161770220079,
          0.06949498766299855,
          0.04779730869569804,
          0.031466814904482165,
          0.09273696642163004,
          0.03020056451300568,
          0.04761086708859541,
          0.06352494516649132,
          0.08123443124505314,
          0.07373278981284165,
          0.0988246780277574,
          0.06996514497229678,
          0.07158562165249915,
          0.09313549145648159,
          0.052623672655040254,
          0.058799417048433944,
          0.055894007709204774,
          0.09108141418172849,
          0.06729838172712976,
          0.0808611050757514,
          0.05520782102462507,
          0.07945971214072334,
          0.034428296166215344,
          0.08514150973683476,
          0.0894583881856803,
          0.04757287937755739,
          0.05391220243304845,
          0.08366465816972085,
          0.062432498881766385,
          0.07735418473747852,
          0.1133472405365561,
          0.07892339563198741,
          0.11668626464511928,
          0.06057134869861314,
          0.12120607180080167,
          0.11435170632493752,
          0.06896460520718034,
          0.0983276417723154,
          0.1165196637265718,
          0.1165196637265718,
          0.02394894972894962,
          0.10956147378337072,
          0.08740417499496139,
          0.04598050370303364,
          0.056227380632653146,
          0.06230024007404661,
          0.07778142379408998,
          0.04388619733118432,
          0.08451946495250245,
          0.08063983995184171,
          0.06550941024814516,
          0.07909254290147211,
          0.06196706729098772,
          0.11645042506820391,
          0.10030197156168963,
          0.0985930993926461,
          0.09576007540485354,
          0.11868811788536776,
          0.11931159594799423,
          0.1153108755872832,
          0.12037611552052035,
          0.05459657606594248,
          0.0996242738354346,
          0.1040451738011367,
          0.1205059598614055,
          0.07433829113770829,
          0.06830549068402098,
          0.06830549068402098,
          0.06421589947169959,
          0.1017949912400345,
          0.06212194648481473,
          0.11472984027892974,
          0.0942988812729984,
          0.10849096657710683,
          0.10517407446358856,
          0.11309407929492671,
          0.0915637233479421,
          0.091268836734962,
          0.0915637233479421,
          0.10978144852546928,
          0.04024775371773898,
          0.03955080274468775,
          0.04853619683215915,
          0.1060972194051204,
          0.05930948524946078,
          0.09784936337317235,
          0.09096770597491449,
          0.05265211807880571,
          0.1185943316907217,
          0.11579900539308308,
          0.10410934324433763,
          0.1209748271858242,
          0.08209932872646986,
          0.11722531925235563,
          0.11685410285698655,
          0.10441351037003654,
          0.12612896390643352,
          0.12206859986940788,
          0.10375542131573962,
          0.10654626138386641,
          0.05927628570571203,
          0.10116190602960806,
          0.09940509715603568,
          0.10035744222821252,
          0.12480590024921245,
          0.045505006792989744,
          0.08065735465747048,
          0.0692299036613222,
          0.13110343871090108,
          0.0762233591728631,
          0.11629601492573144,
          0.096742516967668,
          0.1268822267091384,
          0.11333494920343617,
          0.07989109764831981,
          0.10345351110751833,
          0.12268236552309564,
          0.12831824806499692,
          0.06121956004749529,
          0.058947851413294006,
          0.13254121159817195,
          0.12547060411562622,
          0.13373273844407518,
          0.12273568309180438,
          0.0947605954510154,
          0.0781411265544455,
          0.09341065551978,
          0.09718531617479165,
          0.04045163444942251,
          0.06898099504813832,
          0.08583783210584961,
          0.10521833674150771,
          0.10981557717535445,
          0.1306817726313203,
          0.1176844635426465,
          0.11583486063733306,
          0.12548731634937604,
          0.135394489311025,
          0.13017496028684206,
          0.1264273530463193,
          0.060042034520903564,
          0.10452930025818707,
          0.0859181915129027,
          0.0717793098699353,
          0.13065717664825888,
          0.13384362421600715,
          0.13607952463619005,
          0.1383463562805473,
          0.13361056389208242,
          0.14192403800353348,
          0.13233160238157937,
          0.13839037122403497,
          0.10874787683810971,
          0.06029126250850109,
          0.13345278233479174,
          0.12930730658952766,
          0.13475718787615532,
          0.08450903998975495,
          0.08192884580436044,
          0.10752319119849207,
          0.13443229514710475,
          0.058564558109173215,
          0.0615366801403065,
          0.03182102033534995,
          0.03942198864978802,
          0.06299600027015123,
          0.06877593804506049,
          0.09211176828231016,
          0.11565979584271519,
          0.10780617271129639,
          0.08228295238496591,
          0.12831690511367855,
          0.12684051205426927,
          0.10323778865978728,
          0.1326435563774085,
          0.0746100993511839,
          0.1223881183133449,
          0.08050699252562366,
          0.12853406907070575,
          0.13455137085106905,
          0.03533132093237534,
          0.07791759321937458,
          0.11942584931678213,
          0.13773834949537517,
          0.10080910338041121,
          0.12961840745024422,
          0.11515669796100231,
          0.13022093757654618,
          0.12113282474927878,
          0.11909050967096285,
          0.11621068791528316,
          0.11794243018047296,
          0.13258681069530565,
          0.065457738978202,
          0.12130528951830266,
          0.10394910975341148,
          0.11786786732714966,
          0.09674722786847151,
          0.07218108530843487,
          0.12130528951830266,
          0.11975227998279381,
          0.13569235234871774,
          0.12404980606434146,
          0.11834656369967567,
          0.09362288437161503,
          0.12806705260981288,
          0.1380881126860642,
          0.14046880770390208,
          0.05156729498634649,
          0.07999509027402935,
          0.08251924203683075,
          0.1363767816879356,
          0.1203658850691936,
          0.13405204337947657,
          0.1442954706307582,
          0.11359082794704456,
          0.11032809418992512,
          0.12055621524624194,
          0.10390778889738944,
          0.11877001614915311,
          0.12066091544160007,
          0.14037253534497457,
          0.13978196373563567,
          0.12466548510965358,
          0.1413038589695862,
          0.13745194288908869,
          0.11726928907942935,
          0.08720638083048216,
          0.09809527584991357,
          0.10517355511026738,
          0.14000072860811247,
          0.055585342294725004,
          0.11443419046822428,
          0.10669735195613667,
          0.13445399069427882,
          0.14065001924565723,
          0.1445293657009683,
          0.121043655355146,
          0.14088721313378982,
          0.1039985836905078,
          0.12566598223231362,
          0.08115593731352938,
          0.07998885326736044,
          0.14593992450035165,
          0.13250592979995646,
          0.10139884364510687,
          0.11625492713930358,
          0.1396377013225637,
          0.12431257461442208,
          0.0799996427795775,
          0.12814284951980393,
          0.11320717643973788,
          0.1159528833463177,
          0.10987626493504354,
          0.11128066566425937,
          0.12963004420841273,
          0.1443719731201067,
          0.13816659365116568,
          0.11854095867854342,
          0.1443719731201067,
          0.14348830830032155,
          0.12430769199984454,
          0.07337409461162697,
          0.10660753149028096,
          0.11832660655634131,
          0.08199251145157954,
          0.14237005610940595,
          0.14797217549426644,
          0.14724873256223198,
          0.12555246789426483,
          0.14944414149691648,
          0.14480520667470081,
          0.09647477809345345,
          0.14316700965214268,
          0.11039271436394554,
          0.1453425330048485,
          0.12958392897466386,
          0.11788370077551241,
          0.10797423653706578,
          0.1348582218707442,
          0.13637814369946022,
          0.14790431044064056,
          0.13128184887906696,
          0.13903039500225378,
          0.08175194663657315,
          0.12098859962842212,
          0.12748943725814488,
          0.14299234373787867,
          0.14834233652663315,
          0.14065935203316904,
          0.13802382532215907,
          0.13649662876631252,
          0.13572946177189438,
          0.1334563553246268,
          0.12576555618052387,
          0.1427835496591363,
          0.145177465446358,
          0.11226043631207344,
          0.14711164167555363,
          0.10404943264859157,
          0.11593642789034059,
          0.13761185117142616,
          0.12148777824843732,
          0.06916698795045395,
          0.14303134557108238,
          0.13766130946458932,
          0.11140825742088034,
          0.11759108010852393,
          0.130404959022067,
          0.13582325650743715,
          0.1208907015617191,
          0.14826807613319953,
          0.11166370798853925,
          0.09363555760569903,
          0.13032456391033126,
          0.13822799980153427,
          0.1445744032190901,
          0.14432388438349353,
          0.10371020540032166,
          0.1387676659247788,
          0.07259845246424018,
          0.11291257005777922,
          0.14273393127406586,
          0.12146568451830314,
          0.12181025475563584,
          0.12202789549981352,
          0.11843592592453955,
          0.1153427463729878,
          0.10547791974942294,
          0.1215201779475032,
          0.14522507930974116,
          0.14514849986038586,
          0.13797964637525956,
          0.11193547622015398,
          0.11705982687481181,
          0.14312382969965926,
          0.14445963801086792,
          0.14417005350733836,
          0.1448585527382722,
          0.11373731041441615,
          0.14038455339028527,
          0.09627054120547629,
          0.13969338400722298,
          0.04938806826954861,
          0.14055270588423152,
          0.08399537716780026,
          0.14842620165405396,
          0.14076394375808388,
          0.11200920364837075,
          0.14572785846661157,
          0.14517622908719446,
          0.14065499851434377,
          0.14997540136031423,
          0.14853248763857413,
          0.1285938512818246,
          0.1205305597827031,
          0.11392052768122601,
          0.13807200916331597,
          0.12049107314152518,
          0.11162148187791915,
          0.14693050519690987,
          0.11522271690870056,
          0.09095409227644446,
          0.08932367725897133,
          0.14232345496422605,
          0.08431948085822161,
          0.1324528821038976,
          0.1164725272261562,
          0.13799655061420352,
          0.13593570233749336,
          0.13961492793236352,
          0.10735835075553846,
          0.11030321323389808,
          0.13766946948682057,
          0.13313785881755225,
          0.14645407118880316,
          0.049825896223696264,
          0.10305973591956386,
          0.12354140140549202,
          0.07344364708615353,
          0.14762152425237346,
          0.14413499273003877,
          0.13581194131302143,
          0.13043029719649435,
          0.14196944610621465,
          0.13990083070650328,
          0.14137285432084373,
          0.1485577312850479,
          0.13360682827613135,
          0.13658465253760976,
          0.1403649836008511,
          0.11349279751660574,
          0.13347522651625088,
          0.13892336042954145,
          0.09415833878541102,
          0.08299271281477594,
          0.08802831131530281,
          0.082648833472316,
          0.0922941993062123,
          0.14253988149569913,
          0.12605289583500218,
          0.12984150525313493,
          0.09194351788251465,
          0.09194351788251465,
          0.14420032457632098,
          0.14511154340639543,
          0.1120486724773277,
          0.11127443627273709,
          0.08881941375141134,
          0.07896458870184675,
          0.1330645432571569,
          0.09417332217009672,
          0.08773883848695468,
          0.10334329865618092,
          0.052753620008116675,
          0.09311661643673846,
          0.1376160656387626,
          0.0787758232739249,
          0.0787758232739249,
          0.1494997530465122,
          0.13130731989652528,
          0.13793358930561977,
          0.13917849964993084,
          0.10943800587956726,
          0.13856878437364734,
          0.14268312767800578,
          0.14060301643558082,
          0.14414440227880454,
          0.1444273179153504,
          0.07249865684908718,
          0.1312359066853805,
          0.12425670637334962,
          0.136200029387973,
          0.11900438409296177,
          0.13972954314437352,
          0.12218365654659424,
          0.1434171980205171,
          0.13476540949245475,
          0.13929491279284306,
          0.12276621898478135,
          0.08688423968278364,
          0.05988284691387241,
          0.11277750201485842,
          0.14557823491489946,
          0.13919884177276626,
          0.12040246993846954,
          0.08671800858574824,
          0.1102061961911815,
          0.07772727804074747,
          0.14378073790901202,
          0.11890590095623338,
          0.0814604337055127,
          0.13960104121650962,
          0.14218851360563745,
          0.08989255548348951,
          0.12915747261651556,
          0.14519420530757,
          0.14487495258194033,
          0.14349679219148576,
          0.14162240546925425,
          0.12113293760455818,
          0.1428009212211518,
          0.11675640052388686,
          0.1395885486005241,
          0.1395885486005241,
          0.11293554989885923,
          0.14311238895619288,
          0.09967269161610082,
          0.10393634580693634,
          0.13693843389575494,
          0.13008419554797357,
          0.09128910589576045,
          0.11797095044868322,
          0.12367645243167863,
          0.0767473290917805,
          0.12371688099376571,
          0.13963084575743723,
          0.1375559214444576,
          0.08786613056111808,
          0.09287259422501709,
          0.09287259422501709,
          0.09354496738250911,
          0.09354496738250911,
          0.13719545526357885,
          0.09356171108593969,
          0.08731753452850444,
          0.08121961128245014,
          0.12025713839533808,
          0.11289169399274274,
          0.1224614814016372,
          0.09022048656803677,
          0.12520645296274735,
          0.08973056124782408,
          0.08336768430445168,
          0.0885780701126182,
          0.08906932313569987,
          0.13466592703897506,
          0.1375205181379462,
          0.13679276389917205,
          0.14076051322730754,
          0.1435870768435888,
          0.08625617248063838,
          0.09085255388472296,
          0.06494525535887635,
          0.13219057612917007,
          0.1341332970435049,
          0.1338459540804644,
          0.09443097337294792,
          0.1251351834594409,
          0.12871498300981543,
          0.1311679785537071,
          0.12874420044982937,
          0.09575693937566548,
          0.09951652251295617,
          0.11348309723961747
         ],
         "xaxis": "x",
         "yaxis": "y"
        }
       ],
       "layout": {
        "barmode": "relative",
        "legend": {
         "title": {
          "text": "anomaly_label"
         },
         "tracegroupgap": 0
        },
        "margin": {
         "t": 60
        },
        "template": {
         "data": {
          "bar": [
           {
            "error_x": {
             "color": "#2a3f5f"
            },
            "error_y": {
             "color": "#2a3f5f"
            },
            "marker": {
             "line": {
              "color": "#E5ECF6",
              "width": 0.5
             },
             "pattern": {
              "fillmode": "overlay",
              "size": 10,
              "solidity": 0.2
             }
            },
            "type": "bar"
           }
          ],
          "barpolar": [
           {
            "marker": {
             "line": {
              "color": "#E5ECF6",
              "width": 0.5
             },
             "pattern": {
              "fillmode": "overlay",
              "size": 10,
              "solidity": 0.2
             }
            },
            "type": "barpolar"
           }
          ],
          "carpet": [
           {
            "aaxis": {
             "endlinecolor": "#2a3f5f",
             "gridcolor": "white",
             "linecolor": "white",
             "minorgridcolor": "white",
             "startlinecolor": "#2a3f5f"
            },
            "baxis": {
             "endlinecolor": "#2a3f5f",
             "gridcolor": "white",
             "linecolor": "white",
             "minorgridcolor": "white",
             "startlinecolor": "#2a3f5f"
            },
            "type": "carpet"
           }
          ],
          "choropleth": [
           {
            "colorbar": {
             "outlinewidth": 0,
             "ticks": ""
            },
            "type": "choropleth"
           }
          ],
          "contour": [
           {
            "colorbar": {
             "outlinewidth": 0,
             "ticks": ""
            },
            "colorscale": [
             [
              0,
              "#0d0887"
             ],
             [
              0.1111111111111111,
              "#46039f"
             ],
             [
              0.2222222222222222,
              "#7201a8"
             ],
             [
              0.3333333333333333,
              "#9c179e"
             ],
             [
              0.4444444444444444,
              "#bd3786"
             ],
             [
              0.5555555555555556,
              "#d8576b"
             ],
             [
              0.6666666666666666,
              "#ed7953"
             ],
             [
              0.7777777777777778,
              "#fb9f3a"
             ],
             [
              0.8888888888888888,
              "#fdca26"
             ],
             [
              1,
              "#f0f921"
             ]
            ],
            "type": "contour"
           }
          ],
          "contourcarpet": [
           {
            "colorbar": {
             "outlinewidth": 0,
             "ticks": ""
            },
            "type": "contourcarpet"
           }
          ],
          "heatmap": [
           {
            "colorbar": {
             "outlinewidth": 0,
             "ticks": ""
            },
            "colorscale": [
             [
              0,
              "#0d0887"
             ],
             [
              0.1111111111111111,
              "#46039f"
             ],
             [
              0.2222222222222222,
              "#7201a8"
             ],
             [
              0.3333333333333333,
              "#9c179e"
             ],
             [
              0.4444444444444444,
              "#bd3786"
             ],
             [
              0.5555555555555556,
              "#d8576b"
             ],
             [
              0.6666666666666666,
              "#ed7953"
             ],
             [
              0.7777777777777778,
              "#fb9f3a"
             ],
             [
              0.8888888888888888,
              "#fdca26"
             ],
             [
              1,
              "#f0f921"
             ]
            ],
            "type": "heatmap"
           }
          ],
          "heatmapgl": [
           {
            "colorbar": {
             "outlinewidth": 0,
             "ticks": ""
            },
            "colorscale": [
             [
              0,
              "#0d0887"
             ],
             [
              0.1111111111111111,
              "#46039f"
             ],
             [
              0.2222222222222222,
              "#7201a8"
             ],
             [
              0.3333333333333333,
              "#9c179e"
             ],
             [
              0.4444444444444444,
              "#bd3786"
             ],
             [
              0.5555555555555556,
              "#d8576b"
             ],
             [
              0.6666666666666666,
              "#ed7953"
             ],
             [
              0.7777777777777778,
              "#fb9f3a"
             ],
             [
              0.8888888888888888,
              "#fdca26"
             ],
             [
              1,
              "#f0f921"
             ]
            ],
            "type": "heatmapgl"
           }
          ],
          "histogram": [
           {
            "marker": {
             "pattern": {
              "fillmode": "overlay",
              "size": 10,
              "solidity": 0.2
             }
            },
            "type": "histogram"
           }
          ],
          "histogram2d": [
           {
            "colorbar": {
             "outlinewidth": 0,
             "ticks": ""
            },
            "colorscale": [
             [
              0,
              "#0d0887"
             ],
             [
              0.1111111111111111,
              "#46039f"
             ],
             [
              0.2222222222222222,
              "#7201a8"
             ],
             [
              0.3333333333333333,
              "#9c179e"
             ],
             [
              0.4444444444444444,
              "#bd3786"
             ],
             [
              0.5555555555555556,
              "#d8576b"
             ],
             [
              0.6666666666666666,
              "#ed7953"
             ],
             [
              0.7777777777777778,
              "#fb9f3a"
             ],
             [
              0.8888888888888888,
              "#fdca26"
             ],
             [
              1,
              "#f0f921"
             ]
            ],
            "type": "histogram2d"
           }
          ],
          "histogram2dcontour": [
           {
            "colorbar": {
             "outlinewidth": 0,
             "ticks": ""
            },
            "colorscale": [
             [
              0,
              "#0d0887"
             ],
             [
              0.1111111111111111,
              "#46039f"
             ],
             [
              0.2222222222222222,
              "#7201a8"
             ],
             [
              0.3333333333333333,
              "#9c179e"
             ],
             [
              0.4444444444444444,
              "#bd3786"
             ],
             [
              0.5555555555555556,
              "#d8576b"
             ],
             [
              0.6666666666666666,
              "#ed7953"
             ],
             [
              0.7777777777777778,
              "#fb9f3a"
             ],
             [
              0.8888888888888888,
              "#fdca26"
             ],
             [
              1,
              "#f0f921"
             ]
            ],
            "type": "histogram2dcontour"
           }
          ],
          "mesh3d": [
           {
            "colorbar": {
             "outlinewidth": 0,
             "ticks": ""
            },
            "type": "mesh3d"
           }
          ],
          "parcoords": [
           {
            "line": {
             "colorbar": {
              "outlinewidth": 0,
              "ticks": ""
             }
            },
            "type": "parcoords"
           }
          ],
          "pie": [
           {
            "automargin": true,
            "type": "pie"
           }
          ],
          "scatter": [
           {
            "fillpattern": {
             "fillmode": "overlay",
             "size": 10,
             "solidity": 0.2
            },
            "type": "scatter"
           }
          ],
          "scatter3d": [
           {
            "line": {
             "colorbar": {
              "outlinewidth": 0,
              "ticks": ""
             }
            },
            "marker": {
             "colorbar": {
              "outlinewidth": 0,
              "ticks": ""
             }
            },
            "type": "scatter3d"
           }
          ],
          "scattercarpet": [
           {
            "marker": {
             "colorbar": {
              "outlinewidth": 0,
              "ticks": ""
             }
            },
            "type": "scattercarpet"
           }
          ],
          "scattergeo": [
           {
            "marker": {
             "colorbar": {
              "outlinewidth": 0,
              "ticks": ""
             }
            },
            "type": "scattergeo"
           }
          ],
          "scattergl": [
           {
            "marker": {
             "colorbar": {
              "outlinewidth": 0,
              "ticks": ""
             }
            },
            "type": "scattergl"
           }
          ],
          "scattermapbox": [
           {
            "marker": {
             "colorbar": {
              "outlinewidth": 0,
              "ticks": ""
             }
            },
            "type": "scattermapbox"
           }
          ],
          "scatterpolar": [
           {
            "marker": {
             "colorbar": {
              "outlinewidth": 0,
              "ticks": ""
             }
            },
            "type": "scatterpolar"
           }
          ],
          "scatterpolargl": [
           {
            "marker": {
             "colorbar": {
              "outlinewidth": 0,
              "ticks": ""
             }
            },
            "type": "scatterpolargl"
           }
          ],
          "scatterternary": [
           {
            "marker": {
             "colorbar": {
              "outlinewidth": 0,
              "ticks": ""
             }
            },
            "type": "scatterternary"
           }
          ],
          "surface": [
           {
            "colorbar": {
             "outlinewidth": 0,
             "ticks": ""
            },
            "colorscale": [
             [
              0,
              "#0d0887"
             ],
             [
              0.1111111111111111,
              "#46039f"
             ],
             [
              0.2222222222222222,
              "#7201a8"
             ],
             [
              0.3333333333333333,
              "#9c179e"
             ],
             [
              0.4444444444444444,
              "#bd3786"
             ],
             [
              0.5555555555555556,
              "#d8576b"
             ],
             [
              0.6666666666666666,
              "#ed7953"
             ],
             [
              0.7777777777777778,
              "#fb9f3a"
             ],
             [
              0.8888888888888888,
              "#fdca26"
             ],
             [
              1,
              "#f0f921"
             ]
            ],
            "type": "surface"
           }
          ],
          "table": [
           {
            "cells": {
             "fill": {
              "color": "#EBF0F8"
             },
             "line": {
              "color": "white"
             }
            },
            "header": {
             "fill": {
              "color": "#C8D4E3"
             },
             "line": {
              "color": "white"
             }
            },
            "type": "table"
           }
          ]
         },
         "layout": {
          "annotationdefaults": {
           "arrowcolor": "#2a3f5f",
           "arrowhead": 0,
           "arrowwidth": 1
          },
          "autotypenumbers": "strict",
          "coloraxis": {
           "colorbar": {
            "outlinewidth": 0,
            "ticks": ""
           }
          },
          "colorscale": {
           "diverging": [
            [
             0,
             "#8e0152"
            ],
            [
             0.1,
             "#c51b7d"
            ],
            [
             0.2,
             "#de77ae"
            ],
            [
             0.3,
             "#f1b6da"
            ],
            [
             0.4,
             "#fde0ef"
            ],
            [
             0.5,
             "#f7f7f7"
            ],
            [
             0.6,
             "#e6f5d0"
            ],
            [
             0.7,
             "#b8e186"
            ],
            [
             0.8,
             "#7fbc41"
            ],
            [
             0.9,
             "#4d9221"
            ],
            [
             1,
             "#276419"
            ]
           ],
           "sequential": [
            [
             0,
             "#0d0887"
            ],
            [
             0.1111111111111111,
             "#46039f"
            ],
            [
             0.2222222222222222,
             "#7201a8"
            ],
            [
             0.3333333333333333,
             "#9c179e"
            ],
            [
             0.4444444444444444,
             "#bd3786"
            ],
            [
             0.5555555555555556,
             "#d8576b"
            ],
            [
             0.6666666666666666,
             "#ed7953"
            ],
            [
             0.7777777777777778,
             "#fb9f3a"
            ],
            [
             0.8888888888888888,
             "#fdca26"
            ],
            [
             1,
             "#f0f921"
            ]
           ],
           "sequentialminus": [
            [
             0,
             "#0d0887"
            ],
            [
             0.1111111111111111,
             "#46039f"
            ],
            [
             0.2222222222222222,
             "#7201a8"
            ],
            [
             0.3333333333333333,
             "#9c179e"
            ],
            [
             0.4444444444444444,
             "#bd3786"
            ],
            [
             0.5555555555555556,
             "#d8576b"
            ],
            [
             0.6666666666666666,
             "#ed7953"
            ],
            [
             0.7777777777777778,
             "#fb9f3a"
            ],
            [
             0.8888888888888888,
             "#fdca26"
            ],
            [
             1,
             "#f0f921"
            ]
           ]
          },
          "colorway": [
           "#636efa",
           "#EF553B",
           "#00cc96",
           "#ab63fa",
           "#FFA15A",
           "#19d3f3",
           "#FF6692",
           "#B6E880",
           "#FF97FF",
           "#FECB52"
          ],
          "font": {
           "color": "#2a3f5f"
          },
          "geo": {
           "bgcolor": "white",
           "lakecolor": "white",
           "landcolor": "#E5ECF6",
           "showlakes": true,
           "showland": true,
           "subunitcolor": "white"
          },
          "hoverlabel": {
           "align": "left"
          },
          "hovermode": "closest",
          "mapbox": {
           "style": "light"
          },
          "paper_bgcolor": "white",
          "plot_bgcolor": "#E5ECF6",
          "polar": {
           "angularaxis": {
            "gridcolor": "white",
            "linecolor": "white",
            "ticks": ""
           },
           "bgcolor": "#E5ECF6",
           "radialaxis": {
            "gridcolor": "white",
            "linecolor": "white",
            "ticks": ""
           }
          },
          "scene": {
           "xaxis": {
            "backgroundcolor": "#E5ECF6",
            "gridcolor": "white",
            "gridwidth": 2,
            "linecolor": "white",
            "showbackground": true,
            "ticks": "",
            "zerolinecolor": "white"
           },
           "yaxis": {
            "backgroundcolor": "#E5ECF6",
            "gridcolor": "white",
            "gridwidth": 2,
            "linecolor": "white",
            "showbackground": true,
            "ticks": "",
            "zerolinecolor": "white"
           },
           "zaxis": {
            "backgroundcolor": "#E5ECF6",
            "gridcolor": "white",
            "gridwidth": 2,
            "linecolor": "white",
            "showbackground": true,
            "ticks": "",
            "zerolinecolor": "white"
           }
          },
          "shapedefaults": {
           "line": {
            "color": "#2a3f5f"
           }
          },
          "ternary": {
           "aaxis": {
            "gridcolor": "white",
            "linecolor": "white",
            "ticks": ""
           },
           "baxis": {
            "gridcolor": "white",
            "linecolor": "white",
            "ticks": ""
           },
           "bgcolor": "#E5ECF6",
           "caxis": {
            "gridcolor": "white",
            "linecolor": "white",
            "ticks": ""
           }
          },
          "title": {
           "x": 0.05
          },
          "xaxis": {
           "automargin": true,
           "gridcolor": "white",
           "linecolor": "white",
           "ticks": "",
           "title": {
            "standoff": 15
           },
           "zerolinecolor": "white",
           "zerolinewidth": 2
          },
          "yaxis": {
           "automargin": true,
           "gridcolor": "white",
           "linecolor": "white",
           "ticks": "",
           "title": {
            "standoff": 15
           },
           "zerolinecolor": "white",
           "zerolinewidth": 2
          }
         }
        },
        "xaxis": {
         "anchor": "y",
         "domain": [
          0,
          1
         ],
         "title": {
          "text": "score"
         }
        },
        "yaxis": {
         "anchor": "x",
         "domain": [
          0,
          1
         ],
         "title": {
          "text": "count"
         }
        }
       }
      }
     },
     "metadata": {},
     "output_type": "display_data"
    }
   ],
   "source": [
    "import plotly.express as px\n",
    "\n",
    "data[\"anomaly_label\"] = data[\"anomaly\"].apply(\n",
    "    lambda x: \"outlier\" if x == -1 else \"inlier\"\n",
    ")\n",
    "fig = px.histogram(data, x=\"score\", color=\"anomaly_label\")\n",
    "fig.show()"
   ]
  },
  {
   "cell_type": "code",
   "execution_count": 141,
   "metadata": {},
   "outputs": [
    {
     "data": {
      "text/html": [
       "<div>\n",
       "<style scoped>\n",
       "    .dataframe tbody tr th:only-of-type {\n",
       "        vertical-align: middle;\n",
       "    }\n",
       "\n",
       "    .dataframe tbody tr th {\n",
       "        vertical-align: top;\n",
       "    }\n",
       "\n",
       "    .dataframe thead th {\n",
       "        text-align: right;\n",
       "    }\n",
       "</style>\n",
       "<table border=\"1\" class=\"dataframe\">\n",
       "  <thead>\n",
       "    <tr style=\"text-align: right;\">\n",
       "      <th></th>\n",
       "      <th>CreatedAt</th>\n",
       "      <th>Date</th>\n",
       "      <th>Id</th>\n",
       "      <th>TransactionId</th>\n",
       "      <th>NetAmountUSD</th>\n",
       "      <th>SenderFirstName</th>\n",
       "      <th>SenderLastName</th>\n",
       "      <th>SenderDocument</th>\n",
       "      <th>SenderPhoneNumber</th>\n",
       "      <th>senderCountry</th>\n",
       "      <th>...</th>\n",
       "      <th>TargetCurrency_CLP</th>\n",
       "      <th>TargetCurrency_COP</th>\n",
       "      <th>TargetCurrency_EUR</th>\n",
       "      <th>TargetCurrency_MXN</th>\n",
       "      <th>TargetCurrency_PEN</th>\n",
       "      <th>TargetCurrency_USD</th>\n",
       "      <th>TargetCurrency_VEF</th>\n",
       "      <th>anomaly</th>\n",
       "      <th>score</th>\n",
       "      <th>anomaly_label</th>\n",
       "    </tr>\n",
       "  </thead>\n",
       "  <tbody>\n",
       "    <tr>\n",
       "      <th>0</th>\n",
       "      <td>2023-11-22 17:31:27.991</td>\n",
       "      <td>2023-11-22</td>\n",
       "      <td>90BDB5C9-AD84-4C1A-85D5-5C106BA6FA2A</td>\n",
       "      <td>1277528</td>\n",
       "      <td>5441.022042</td>\n",
       "      <td>MIRKO</td>\n",
       "      <td>ZLATAR SEPULVEDA</td>\n",
       "      <td>00103233747</td>\n",
       "      <td>56998742667.0</td>\n",
       "      <td>CHL</td>\n",
       "      <td>...</td>\n",
       "      <td>0</td>\n",
       "      <td>0</td>\n",
       "      <td>1</td>\n",
       "      <td>0</td>\n",
       "      <td>0</td>\n",
       "      <td>0</td>\n",
       "      <td>0</td>\n",
       "      <td>-1</td>\n",
       "      <td>-0.076002</td>\n",
       "      <td>outlier</td>\n",
       "    </tr>\n",
       "    <tr>\n",
       "      <th>1</th>\n",
       "      <td>2023-11-30 21:04:50.916</td>\n",
       "      <td>2023-11-30</td>\n",
       "      <td>81465787-552A-49CE-8DA2-F23D4E09A796</td>\n",
       "      <td>1302804</td>\n",
       "      <td>2721.651280</td>\n",
       "      <td>RAFAEL</td>\n",
       "      <td>MARTINEZ NEIRA</td>\n",
       "      <td>00277829045</td>\n",
       "      <td>56993201618.0</td>\n",
       "      <td>CHL</td>\n",
       "      <td>...</td>\n",
       "      <td>0</td>\n",
       "      <td>0</td>\n",
       "      <td>1</td>\n",
       "      <td>0</td>\n",
       "      <td>0</td>\n",
       "      <td>0</td>\n",
       "      <td>0</td>\n",
       "      <td>1</td>\n",
       "      <td>0.002783</td>\n",
       "      <td>inlier</td>\n",
       "    </tr>\n",
       "    <tr>\n",
       "      <th>2</th>\n",
       "      <td>2023-11-07 15:24:58.947</td>\n",
       "      <td>2023-11-07</td>\n",
       "      <td>4E8FC322-555C-4CBF-AF4A-BA2180FA75B0</td>\n",
       "      <td>1226955</td>\n",
       "      <td>2548.889692</td>\n",
       "      <td>BRAYHAN BORIS</td>\n",
       "      <td>BUENO CORTES</td>\n",
       "      <td>00244993249</td>\n",
       "      <td>56967886270.0</td>\n",
       "      <td>CHL</td>\n",
       "      <td>...</td>\n",
       "      <td>0</td>\n",
       "      <td>1</td>\n",
       "      <td>0</td>\n",
       "      <td>0</td>\n",
       "      <td>0</td>\n",
       "      <td>0</td>\n",
       "      <td>0</td>\n",
       "      <td>-1</td>\n",
       "      <td>-0.032611</td>\n",
       "      <td>outlier</td>\n",
       "    </tr>\n",
       "    <tr>\n",
       "      <th>3</th>\n",
       "      <td>2023-11-02 19:59:14.868</td>\n",
       "      <td>2023-11-02</td>\n",
       "      <td>0C5381FA-23F5-4016-BDF5-298D6A64C773</td>\n",
       "      <td>1210171</td>\n",
       "      <td>2230.651488</td>\n",
       "      <td>MARIA RAQUEL</td>\n",
       "      <td>MEJIAS SILVA</td>\n",
       "      <td>00052005191</td>\n",
       "      <td>56952214701.0</td>\n",
       "      <td>CHL</td>\n",
       "      <td>...</td>\n",
       "      <td>0</td>\n",
       "      <td>0</td>\n",
       "      <td>1</td>\n",
       "      <td>0</td>\n",
       "      <td>0</td>\n",
       "      <td>0</td>\n",
       "      <td>0</td>\n",
       "      <td>-1</td>\n",
       "      <td>-0.014998</td>\n",
       "      <td>outlier</td>\n",
       "    </tr>\n",
       "    <tr>\n",
       "      <th>4</th>\n",
       "      <td>2023-11-30 19:48:12.852</td>\n",
       "      <td>2023-11-30</td>\n",
       "      <td>A767BF8B-03F6-4825-9A7A-E3E65A05F4FA</td>\n",
       "      <td>1302462</td>\n",
       "      <td>2178.305170</td>\n",
       "      <td>WILLIAM LARRY</td>\n",
       "      <td>VASQUEZ ORTEGA</td>\n",
       "      <td>00109178497</td>\n",
       "      <td>56966098213.0</td>\n",
       "      <td>CHL</td>\n",
       "      <td>...</td>\n",
       "      <td>0</td>\n",
       "      <td>0</td>\n",
       "      <td>1</td>\n",
       "      <td>0</td>\n",
       "      <td>0</td>\n",
       "      <td>0</td>\n",
       "      <td>0</td>\n",
       "      <td>-1</td>\n",
       "      <td>-0.012021</td>\n",
       "      <td>outlier</td>\n",
       "    </tr>\n",
       "    <tr>\n",
       "      <th>...</th>\n",
       "      <td>...</td>\n",
       "      <td>...</td>\n",
       "      <td>...</td>\n",
       "      <td>...</td>\n",
       "      <td>...</td>\n",
       "      <td>...</td>\n",
       "      <td>...</td>\n",
       "      <td>...</td>\n",
       "      <td>...</td>\n",
       "      <td>...</td>\n",
       "      <td>...</td>\n",
       "      <td>...</td>\n",
       "      <td>...</td>\n",
       "      <td>...</td>\n",
       "      <td>...</td>\n",
       "      <td>...</td>\n",
       "      <td>...</td>\n",
       "      <td>...</td>\n",
       "      <td>...</td>\n",
       "      <td>...</td>\n",
       "      <td>...</td>\n",
       "    </tr>\n",
       "    <tr>\n",
       "      <th>550</th>\n",
       "      <td>2023-11-17 17:50:35.043</td>\n",
       "      <td>2023-11-17</td>\n",
       "      <td>8202FC47-5CC1-48F0-AD2E-42C3D481E818</td>\n",
       "      <td>1262869</td>\n",
       "      <td>1.770000</td>\n",
       "      <td>SOLANYELA</td>\n",
       "      <td>GONZALEZ -</td>\n",
       "      <td>274083433</td>\n",
       "      <td>nan</td>\n",
       "      <td>CHL</td>\n",
       "      <td>...</td>\n",
       "      <td>0</td>\n",
       "      <td>0</td>\n",
       "      <td>0</td>\n",
       "      <td>0</td>\n",
       "      <td>0</td>\n",
       "      <td>0</td>\n",
       "      <td>1</td>\n",
       "      <td>1</td>\n",
       "      <td>0.131168</td>\n",
       "      <td>inlier</td>\n",
       "    </tr>\n",
       "    <tr>\n",
       "      <th>551</th>\n",
       "      <td>2023-11-18 17:21:23.449</td>\n",
       "      <td>2023-11-18</td>\n",
       "      <td>830380AA-847F-434A-B3C7-CEDD18EFC494</td>\n",
       "      <td>1265920</td>\n",
       "      <td>1.430000</td>\n",
       "      <td>MAURY</td>\n",
       "      <td>PENA -</td>\n",
       "      <td>260520652</td>\n",
       "      <td>nan</td>\n",
       "      <td>CHL</td>\n",
       "      <td>...</td>\n",
       "      <td>0</td>\n",
       "      <td>0</td>\n",
       "      <td>0</td>\n",
       "      <td>0</td>\n",
       "      <td>0</td>\n",
       "      <td>0</td>\n",
       "      <td>1</td>\n",
       "      <td>1</td>\n",
       "      <td>0.128744</td>\n",
       "      <td>inlier</td>\n",
       "    </tr>\n",
       "    <tr>\n",
       "      <th>552</th>\n",
       "      <td>2023-11-27 15:04:02.957</td>\n",
       "      <td>2023-11-27</td>\n",
       "      <td>D20C555C-7414-4369-9048-6F162191295B</td>\n",
       "      <td>1290947</td>\n",
       "      <td>1.392705</td>\n",
       "      <td>DANA ANABEL</td>\n",
       "      <td>OVALLE</td>\n",
       "      <td>41.879.837</td>\n",
       "      <td>5491125883828.0</td>\n",
       "      <td>ARG</td>\n",
       "      <td>...</td>\n",
       "      <td>0</td>\n",
       "      <td>0</td>\n",
       "      <td>0</td>\n",
       "      <td>0</td>\n",
       "      <td>0</td>\n",
       "      <td>0</td>\n",
       "      <td>0</td>\n",
       "      <td>1</td>\n",
       "      <td>0.095757</td>\n",
       "      <td>inlier</td>\n",
       "    </tr>\n",
       "    <tr>\n",
       "      <th>553</th>\n",
       "      <td>2023-11-30 19:41:06.440</td>\n",
       "      <td>2023-11-30</td>\n",
       "      <td>BACA283D-C79E-4E28-9F88-DC285D6FD262</td>\n",
       "      <td>1302413</td>\n",
       "      <td>1.387071</td>\n",
       "      <td>DANA ANABEL</td>\n",
       "      <td>OVALLE</td>\n",
       "      <td>41.879.837</td>\n",
       "      <td>5491125883828.0</td>\n",
       "      <td>ARG</td>\n",
       "      <td>...</td>\n",
       "      <td>0</td>\n",
       "      <td>0</td>\n",
       "      <td>0</td>\n",
       "      <td>0</td>\n",
       "      <td>0</td>\n",
       "      <td>0</td>\n",
       "      <td>0</td>\n",
       "      <td>1</td>\n",
       "      <td>0.099517</td>\n",
       "      <td>inlier</td>\n",
       "    </tr>\n",
       "    <tr>\n",
       "      <th>554</th>\n",
       "      <td>2023-11-19 15:21:07.702</td>\n",
       "      <td>2023-11-19</td>\n",
       "      <td>C57310B3-09EE-4634-A23A-BC31353E9FF1</td>\n",
       "      <td>1267171</td>\n",
       "      <td>1.044455</td>\n",
       "      <td>STEFANO</td>\n",
       "      <td>MARONGIU</td>\n",
       "      <td>541133634189</td>\n",
       "      <td>nan</td>\n",
       "      <td>ITA</td>\n",
       "      <td>...</td>\n",
       "      <td>0</td>\n",
       "      <td>0</td>\n",
       "      <td>0</td>\n",
       "      <td>0</td>\n",
       "      <td>0</td>\n",
       "      <td>0</td>\n",
       "      <td>0</td>\n",
       "      <td>1</td>\n",
       "      <td>0.113483</td>\n",
       "      <td>inlier</td>\n",
       "    </tr>\n",
       "  </tbody>\n",
       "</table>\n",
       "<p>555 rows × 132 columns</p>\n",
       "</div>"
      ],
      "text/plain": [
       "                  CreatedAt        Date                                    Id  \\\n",
       "0   2023-11-22 17:31:27.991  2023-11-22  90BDB5C9-AD84-4C1A-85D5-5C106BA6FA2A   \n",
       "1   2023-11-30 21:04:50.916  2023-11-30  81465787-552A-49CE-8DA2-F23D4E09A796   \n",
       "2   2023-11-07 15:24:58.947  2023-11-07  4E8FC322-555C-4CBF-AF4A-BA2180FA75B0   \n",
       "3   2023-11-02 19:59:14.868  2023-11-02  0C5381FA-23F5-4016-BDF5-298D6A64C773   \n",
       "4   2023-11-30 19:48:12.852  2023-11-30  A767BF8B-03F6-4825-9A7A-E3E65A05F4FA   \n",
       "..                      ...         ...                                   ...   \n",
       "550 2023-11-17 17:50:35.043  2023-11-17  8202FC47-5CC1-48F0-AD2E-42C3D481E818   \n",
       "551 2023-11-18 17:21:23.449  2023-11-18  830380AA-847F-434A-B3C7-CEDD18EFC494   \n",
       "552 2023-11-27 15:04:02.957  2023-11-27  D20C555C-7414-4369-9048-6F162191295B   \n",
       "553 2023-11-30 19:41:06.440  2023-11-30  BACA283D-C79E-4E28-9F88-DC285D6FD262   \n",
       "554 2023-11-19 15:21:07.702  2023-11-19  C57310B3-09EE-4634-A23A-BC31353E9FF1   \n",
       "\n",
       "    TransactionId  NetAmountUSD SenderFirstName    SenderLastName  \\\n",
       "0         1277528   5441.022042           MIRKO  ZLATAR SEPULVEDA   \n",
       "1         1302804   2721.651280          RAFAEL    MARTINEZ NEIRA   \n",
       "2         1226955   2548.889692   BRAYHAN BORIS      BUENO CORTES   \n",
       "3         1210171   2230.651488    MARIA RAQUEL      MEJIAS SILVA   \n",
       "4         1302462   2178.305170   WILLIAM LARRY    VASQUEZ ORTEGA   \n",
       "..            ...           ...             ...               ...   \n",
       "550       1262869      1.770000       SOLANYELA        GONZALEZ -   \n",
       "551       1265920      1.430000           MAURY            PENA -   \n",
       "552       1290947      1.392705     DANA ANABEL            OVALLE   \n",
       "553       1302413      1.387071     DANA ANABEL            OVALLE   \n",
       "554       1267171      1.044455        STEFANO          MARONGIU    \n",
       "\n",
       "    SenderDocument SenderPhoneNumber senderCountry  ... TargetCurrency_CLP  \\\n",
       "0      00103233747     56998742667.0           CHL  ...                  0   \n",
       "1      00277829045     56993201618.0           CHL  ...                  0   \n",
       "2      00244993249     56967886270.0           CHL  ...                  0   \n",
       "3      00052005191     56952214701.0           CHL  ...                  0   \n",
       "4      00109178497     56966098213.0           CHL  ...                  0   \n",
       "..             ...               ...           ...  ...                ...   \n",
       "550      274083433               nan           CHL  ...                  0   \n",
       "551      260520652               nan           CHL  ...                  0   \n",
       "552     41.879.837   5491125883828.0           ARG  ...                  0   \n",
       "553     41.879.837   5491125883828.0           ARG  ...                  0   \n",
       "554   541133634189               nan           ITA  ...                  0   \n",
       "\n",
       "    TargetCurrency_COP TargetCurrency_EUR  TargetCurrency_MXN  \\\n",
       "0                    0                  1                   0   \n",
       "1                    0                  1                   0   \n",
       "2                    1                  0                   0   \n",
       "3                    0                  1                   0   \n",
       "4                    0                  1                   0   \n",
       "..                 ...                ...                 ...   \n",
       "550                  0                  0                   0   \n",
       "551                  0                  0                   0   \n",
       "552                  0                  0                   0   \n",
       "553                  0                  0                   0   \n",
       "554                  0                  0                   0   \n",
       "\n",
       "    TargetCurrency_PEN TargetCurrency_USD TargetCurrency_VEF  anomaly  \\\n",
       "0                    0                  0                  0       -1   \n",
       "1                    0                  0                  0        1   \n",
       "2                    0                  0                  0       -1   \n",
       "3                    0                  0                  0       -1   \n",
       "4                    0                  0                  0       -1   \n",
       "..                 ...                ...                ...      ...   \n",
       "550                  0                  0                  1        1   \n",
       "551                  0                  0                  1        1   \n",
       "552                  0                  0                  0        1   \n",
       "553                  0                  0                  0        1   \n",
       "554                  0                  0                  0        1   \n",
       "\n",
       "        score  anomaly_label  \n",
       "0   -0.076002        outlier  \n",
       "1    0.002783         inlier  \n",
       "2   -0.032611        outlier  \n",
       "3   -0.014998        outlier  \n",
       "4   -0.012021        outlier  \n",
       "..        ...            ...  \n",
       "550  0.131168         inlier  \n",
       "551  0.128744         inlier  \n",
       "552  0.095757         inlier  \n",
       "553  0.099517         inlier  \n",
       "554  0.113483         inlier  \n",
       "\n",
       "[555 rows x 132 columns]"
      ]
     },
     "execution_count": 141,
     "metadata": {},
     "output_type": "execute_result"
    }
   ],
   "source": [
    "data.fillna(0)"
   ]
  },
  {
   "cell_type": "code",
   "execution_count": 137,
   "metadata": {},
   "outputs": [
    {
     "name": "stderr",
     "output_type": "stream",
     "text": [
      "IProgress not found. Please update jupyter and ipywidgets. See https://ipywidgets.readthedocs.io/en/stable/user_install.html\n"
     ]
    }
   ],
   "source": [
    "from pathlib import Path\n",
    "import os\n",
    "import sys\n",
    "import warnings\n",
    "import shap\n",
    "from IPython.display import display, HTML, Markdown, Javascript\n",
    "import matplotlib.pyplot as plt\n",
    "import plotly.express as px\n",
    "from sklearn.decomposition import PCA\n",
    "from sklearn.preprocessing import StandardScaler\n",
    "from mpl_toolkits.mplot3d import Axes3D\n",
    "from sklearn.ensemble import IsolationForest"
   ]
  },
  {
   "cell_type": "code",
   "execution_count": 143,
   "metadata": {},
   "outputs": [],
   "source": [
    "pca3 = PCA(n_components=3)  # Reduce to k=3 dimensions\n",
    "scaler = StandardScaler()\n",
    "# normalize the metrics\n",
    "X = scaler.fit_transform(data.fillna(0)[features])\n",
    "X_reduce = pca3.fit_transform(X)\n"
   ]
  },
  {
   "cell_type": "code",
   "execution_count": 151,
   "metadata": {},
   "outputs": [],
   "source": [
    "\n",
    "\n",
    "# Add destination user to label\n",
    "data[\"labels\"] = np.where(\n",
    "    data[\"anomaly\"] == -1,\n",
    "    data[\"TransactionId\"].astype(\"str\"),\n",
    "    \"non-anomalous\",\n",
    ")\n"
   ]
  },
  {
   "cell_type": "code",
   "execution_count": 152,
   "metadata": {},
   "outputs": [
    {
     "data": {
      "application/vnd.plotly.v1+json": {
       "config": {
        "plotlyServerURL": "https://plot.ly"
       },
       "data": [
        {
         "hovertemplate": "color=1277528<br>Principal Component 1=%{x}<br>Principal Component 2=%{y}<br>Principal Component 3=%{z}<extra></extra>",
         "legendgroup": "1277528",
         "marker": {
          "color": "#636efa",
          "symbol": "circle"
         },
         "mode": "markers",
         "name": "1277528",
         "scene": "scene",
         "showlegend": true,
         "type": "scatter3d",
         "x": [
          29.936901773359114
         ],
         "y": [
          -2.8058630188776967
         ],
         "z": [
          13.78040441460508
         ]
        },
        {
         "hovertemplate": "color=non-anomalous<br>Principal Component 1=%{x}<br>Principal Component 2=%{y}<br>Principal Component 3=%{z}<extra></extra>",
         "legendgroup": "non-anomalous",
         "marker": {
          "color": "#EF553B",
          "symbol": "circle"
         },
         "mode": "markers",
         "name": "non-anomalous",
         "scene": "scene",
         "showlegend": true,
         "type": "scatter3d",
         "x": [
          18.702077122746704,
          6.776506012302971,
          16.114436333968523,
          13.466450060995495,
          15.31248752231494,
          13.939642435703291,
          6.717753284947181,
          6.596282853057224,
          12.024431959526808,
          3.4119334491090907,
          3.540311202942077,
          12.178477277051154,
          11.794659144993009,
          6.0589176413191925,
          1.9997756580348214,
          12.6113013178373,
          3.5298519610023127,
          3.1761604891621507,
          5.025460263776237,
          12.060667814566926,
          3.031026304636254,
          5.054460067039443,
          11.756844912955177,
          1.8348698497551212,
          4.388343012365565,
          2.84478129046315,
          2.740679088750816,
          2.8789562317300494,
          3.038440472032225,
          2.898373974391736,
          2.898138113467141,
          0.6422718452177215,
          11.598424335775118,
          11.26645395265583,
          4.0664282662617275,
          0.7493221078052464,
          11.15137108412089,
          1.3704875694208603,
          1.3869909252484536,
          1.820015939523082,
          5.505829365239825,
          4.615418109792235,
          -0.425815555747545,
          0.624503059710384,
          0.6387481198323292,
          3.7755824483634717,
          0.06050947744141352,
          0.5432621444985698,
          5.544448022710953,
          4.163332937407264,
          4.880661939722222,
          0.34803582216609047,
          10.493455108512933,
          0.8434706552342818,
          4.820618066517318,
          0.4738883810431676,
          -0.2677614702771425,
          0.7718950879624199,
          1.331702216739102,
          12.282374167250742,
          10.853876675099901,
          0.9918156844781142,
          10.643974700299607,
          0.43757823697181525,
          -0.5769636515007266,
          1.4752773513521895,
          -0.18487546888102208,
          0.9902030545829013,
          -0.19868536056839098,
          0.03599314327700501,
          -0.811370769203295,
          -0.5347147224840624,
          -0.2601610866893384,
          -0.2620906542509999,
          1.0692184649758154,
          -0.9337460427620018,
          -0.8576971752725002,
          11.632929039989216,
          4.2287361650899165,
          3.997670310939001,
          1.1617467110508353,
          -0.2810171765784177,
          3.262002392217904,
          5.562608377844938,
          -0.8298206173500903,
          1.1645682327165146,
          3.9376341067122995,
          -0.10724172694948111,
          -0.2180153484455427,
          -0.8221017697439564,
          0.980073120191401,
          -0.0736074475514458,
          -0.07822494103687277,
          -0.11260888377914832,
          0.06554280832900274,
          9.938175150050117,
          -1.1632363577838167,
          0.33603296048548303,
          -0.6446473003859446,
          -0.8806097464747354,
          -1.0476153841447755,
          -1.0496122176003464,
          -1.7439181634153649,
          0.7826482099041889,
          -1.1312183451342441,
          -0.9524753754547922,
          -0.17500489539714453,
          -1.2555006355051976,
          -1.2997815493394052,
          -1.5196351900910128,
          -1.6393263729342544,
          -1.5702790694193347,
          -1.6393270522582277,
          -1.7257471475165156,
          1.010877983245905,
          8.518352475323876,
          12.117926492605166,
          0.8437591774339028,
          9.777428446114634,
          1.007286089122059,
          0.5948336141573433,
          2.706897386327497,
          -1.2568791270399442,
          -1.5003305926400168,
          0.17850673184187899,
          -0.5090192079703494,
          0.6347469731379891,
          -1.5408034941857818,
          -0.1800660055095117,
          0.16593100509152425,
          -0.42519097758505586,
          -0.24056041414288143,
          -0.5113463794145786,
          -0.48676919622429554,
          -0.35237274607161057,
          0.08351912245908878,
          -0.6425946678339184,
          -1.030788082264896,
          -0.9311471043196551,
          12.122173758694933,
          5.130988865773627,
          4.24485430120363,
          -0.5697696023502011,
          4.928516576891426,
          -0.8056608331919257,
          -2.0695940737130907,
          -0.6361592723683461,
          -0.6658078915263674,
          3.24860960168046,
          -0.5567819878406699,
          -0.9502017366233758,
          -0.5448106117252158,
          3.7635995286108295,
          3.804638945651033,
          -1.817841054964473,
          -1.7086724125224282,
          -0.9643710181605042,
          -0.9091817931638917,
          0.3633999558920354,
          4.778103836472931,
          0.38559702691351644,
          -0.3881950191290276,
          2.2292120304336303,
          -0.6323835549647838,
          -0.6567693876805039,
          -0.9196734856718082,
          -0.10455739262252202,
          -1.7374445022460054,
          -1.0024728828314124,
          -1.058068656679247,
          -0.8636692577019527,
          -0.8324270751550017,
          -1.9563941555376405,
          -1.1191893704492202,
          -0.8467483886861605,
          -0.1858482708807757,
          -0.225080896404947,
          -0.6735616150961328,
          -1.8206308914828864,
          -2.075551707255379,
          -1.8848965070755181,
          -1.9581875744115342,
          -1.753946017327867,
          -1.8747871409452936,
          -1.3106349581453034,
          -1.9003277024869045,
          -2.0276298724299173,
          2.317327445100378,
          -1.2968647509417026,
          -1.4987709396932534,
          -1.6891404132304668,
          -0.7702997419016501,
          -0.630999329785233,
          0.4687101432358624,
          -1.2999785649683142,
          9.667793680803278,
          9.653069708865297,
          16.23819138300041,
          10.882147319232933,
          10.285513954228435,
          9.664087662934827,
          -2.0871572652517463,
          -2.3132925961847985,
          -1.1929190505238338,
          -1.6159641623777752,
          -1.026385890140543,
          -1.315619330455317,
          0.8984939831886247,
          -1.9708574261610163,
          -1.9385356979331023,
          -2.196372687322899,
          -1.9766010680312196,
          -0.5297187478915042,
          -1.96670029536017,
          2.195482579184225,
          4.754224494428369,
          -1.3479940447925336,
          -0.9201123626289015,
          -0.25928703152517696,
          -0.9277701662980368,
          -0.7331713376874411,
          -1.146130312295659,
          -1.0668820213023078,
          -0.8441836039845997,
          -1.0621485246236657,
          -0.8106454654064928,
          -0.7244344439217149,
          1.6812443665715804,
          -1.1090528393346037,
          -1.9319017188487713,
          -0.0913468504967195,
          -0.28053968352612185,
          -0.4131315532713241,
          -1.1131796471584732,
          -1.376471470993217,
          -1.9918479471123898,
          -0.7853263784820106,
          -1.1031031918814054,
          -2.015879668305594,
          -0.957962069012149,
          -1.8395059386478338,
          -1.896959146998405,
          3.095904981953057,
          1.5949438373702383,
          -1.4439316162037157,
          -1.8565662966576826,
          -0.8678192635798381,
          -1.0905461129616034,
          -1.8387867521889825,
          -0.6365631096532645,
          -0.8591873282234962,
          -0.9711205436193185,
          -2.301853456442482,
          -2.225788968249942,
          -2.4147475823797957,
          -1.7736467044499533,
          -2.0621404033590234,
          -1.427839136190124,
          -2.3068572657874524,
          -2.347105891082329,
          -1.0498919426589712,
          0.3945356875803624,
          -2.7998608425554727,
          -2.8151918157894316,
          -2.169153960137408,
          9.533234736948666,
          -0.06422026152982989,
          -0.8510504333355614,
          -1.4144599895907244,
          -1.6578561549959965,
          -2.077953439879665,
          -1.3157881996660978,
          -1.8146795495063783,
          -0.8199317110294903,
          -1.3447911602221718,
          -1.6951658844413973,
          -1.6391644431808843,
          -2.1356999177375253,
          -1.0207534604425212,
          -2.1222839348978635,
          -1.3739086923335342,
          -1.1928903004407607,
          -1.248122713029291,
          0.2721325377370254,
          -1.498584364452253,
          -1.1293459507794226,
          -1.7107518135662183,
          -2.148307560419824,
          -1.5220651839166721,
          -1.350415771616837,
          -1.9939099450773825,
          -2.185522092350982,
          -0.9513428114715464,
          -1.9993301313434173,
          -2.057641594315665,
          -0.9826432473252732,
          -0.8003105141661707,
          -2.1853347303693442,
          -2.4168106382382852,
          -2.067993932761786,
          -1.9546621027087694,
          -2.2581423394022844,
          -1.8620726972845694,
          -1.3812254472139138,
          -2.0966237767683533,
          -1.989789787780928,
          -2.7020990520672505,
          -2.2084518477818245,
          -0.3691569856164566,
          -2.065064621637489,
          -1.1421847806345817,
          -1.2820886590774168,
          -2.1908055990716937,
          -2.1933985129394973,
          -1.600069824292696,
          -2.0020644959231264,
          -2.3326512411923694,
          -2.285339075206016,
          1.6466699679790588,
          -2.4918934974341505,
          -2.3965716289814916,
          -1.36138817675893,
          -2.085681738242904,
          -1.4040088301345848,
          -1.3120600065976535,
          -0.9345445044701439,
          -1.0376974896266382,
          -1.0260591031793378,
          -1.1677179819695152,
          -1.4422790059667898,
          -1.4538352717420295,
          -0.45079605434820735,
          -2.1758143153502068,
          -2.8666165316446364,
          -1.2262915951425983,
          -2.4130470331933527,
          -1.9747973073697878,
          -0.9618080360155737,
          -1.2727712632511543,
          -2.107162907866581,
          -1.2145676286151297,
          -1.5387441488104099,
          -2.43310881069275,
          -2.2746084355234166,
          -1.1957736221357527,
          -1.986222096881323,
          -1.5368770134474687,
          -1.3083661505996473,
          -1.306329005122597,
          -2.4535581336298566,
          -2.203755195363155,
          -2.1406573012099805,
          -2.2044566917597725,
          -1.225646640386932,
          0.6577092463895607,
          -1.2511005293326183,
          -1.3051090571006192,
          -1.502545218105714,
          -1.4902355224269794,
          -1.4261786158016105,
          -1.4129621969170767,
          -1.4966978083356361,
          -1.0577490799258167,
          -1.4397078614457286,
          -2.374503421924795,
          -2.3208962226301395,
          -2.416414173865308,
          -1.5395455907647468,
          -1.5930348058385146,
          -1.313828781250546,
          -2.24884510232928,
          -2.1929622244949694,
          -2.302537813036342,
          -1.5304710708723541,
          -2.3893446686658883,
          -0.3521930454304194,
          -2.415376557069018,
          2.827283652337189,
          -1.5403383750587598,
          -2.133238738798448,
          -2.302828950460227,
          -1.2215481872015435,
          -1.603525193797266,
          -2.325372443355999,
          -2.238338264847288,
          -2.226192781997407,
          -2.0306408873876878,
          -1.9730388393926135,
          -1.4452107581380795,
          -1.7682162492491125,
          -1.414971141190231,
          -2.4497301398970195,
          -1.6778367071902176,
          -2.376900624783964,
          -2.152565035580853,
          -1.671267109200841,
          -1.1221910951832832,
          -1.3687463506728326,
          -2.4433825254335475,
          -1.3319939845779174,
          -1.5599684774097007,
          -1.7424094944216848,
          -2.504516194712586,
          -2.4061718744472906,
          -2.3805332640380787,
          -2.7580638417314374,
          -2.4090614886966613,
          -2.389165452448063,
          -2.125834808027942,
          -2.0008982678339557,
          -1.0441641562782715,
          -0.5323993777616788,
          -2.5717918026601887,
          -0.9315315993905103,
          -2.2167238107518368,
          -2.4376198035354824,
          -1.9028021385713871,
          -2.3507822800932243,
          -2.301436629126487,
          -2.4591105533946913,
          -2.300422722509264,
          -2.3529415945024623,
          -2.4780611616360124,
          -2.16821178534442,
          -2.3436262253479407,
          -1.5276176744752958,
          -1.159688886406265,
          -2.46792709887006,
          -2.1448251547636445,
          -1.4142084258078762,
          -2.158876067557726,
          -2.2185223672365564,
          -2.1380652364290964,
          -2.4540676101480323,
          -1.422114045685797,
          -1.347163672462818,
          -2.184717144737379,
          -2.184717144737379,
          -2.2991092546599274,
          -2.3646335903711204,
          -1.4470507855031713,
          -1.3222759015439023,
          -2.194190726223725,
          -1.6804657513262,
          -2.185867399352227,
          -2.071273997682207,
          -2.0590258090628804,
          -2.8684004171484108,
          -1.8333699237111325,
          -2.0717770362087395,
          -2.2138774539239923,
          -1.9046611627868792,
          -1.904663466287556,
          -2.147888852286634,
          -2.4124569208265627,
          -2.1062385059860755,
          -2.4051795373882703,
          -1.5562467064159993,
          -2.4184490355998998,
          -2.153411801909764,
          -2.422405315821105,
          -2.237754422197619,
          -2.4146088018222325,
          0.2870545136695407,
          -2.4676716409757846,
          -1.1764883231937593,
          -1.4403925823070285,
          -0.795457017626112,
          -2.443576444131647,
          -2.0479483900110367,
          -2.2461415286457584,
          -2.4404944788938927,
          -2.358077385049235,
          -2.595068754228149,
          -0.41804076610511604,
          0.6758385669467835,
          -2.4880999109281925,
          -2.4337415098477413,
          -2.4940132531716706,
          -2.490166159128423,
          -1.4057149478986437,
          -1.5650536091646714,
          -1.9184304401808057,
          -2.252473771389139,
          -2.4848423235708936,
          -2.0956180394808497,
          -2.527538977172464,
          -1.6224347102900223,
          -1.278298895526602,
          -1.0243470063278541,
          -2.2378966882224387,
          -2.2732216991591665,
          -2.0906757370356397,
          -2.335275250224227,
          -2.05817556118617,
          -2.292874548817927,
          -1.6618762522192698,
          -2.3650579052747536,
          -2.3650579052747536,
          -0.9001245286853146,
          -2.0829859149326047,
          -1.3275264256509816,
          -1.8238205997914068,
          -2.4802950218769078,
          -2.5074094858179143,
          -2.532207954058708,
          -2.02179146384629,
          -1.62353886338588,
          -0.5953850602651701,
          -1.3879933188752223,
          -2.2196439439349684,
          -2.3478248726358104,
          -2.2266964729163043,
          -2.284009794160586,
          -2.284009794160586,
          -2.2346936384773826,
          -2.2346936384773826,
          -1.647040009888181,
          -2.2747077701603247,
          -2.099184340584105,
          -1.9735826923699153,
          -0.4204533277980174,
          -1.4591530510007655,
          -2.3498259726334565,
          -2.2633928829044136,
          -1.2164250097985698,
          -1.9673364474523969,
          -1.9856746636941658,
          -1.9676723220036614,
          -2.2551651930078336,
          -2.2933620739136447,
          -2.491756523641883,
          -2.459128289499084,
          -2.0841881638229367,
          -2.295199267141272,
          -2.483400057905131,
          -3.0465894931763007,
          0.14276299781350751,
          -2.5106178229429004,
          -2.3308689890695082,
          -2.1985189024764193,
          -1.8466629129051373,
          -1.7594374663833532,
          -1.4675448174995644,
          -2.3663721648689693,
          -2.552402628599594,
          -1.6563532313635403,
          -1.6563088078882124,
          -1.8413353114881321
         ],
         "y": [
          -0.11521165583625177,
          1.597076745992617,
          -1.5252936356281,
          -0.2368790751769369,
          -1.5340277698559774,
          -1.4146361318302503,
          -0.2699144025647328,
          -0.3028380659752839,
          -0.41193251460147734,
          2.6358350190758064,
          1.859751811890897,
          -0.5472579989169171,
          -0.42237746372490453,
          -0.18769118994071904,
          1.4671672920517016,
          -1.254207208996534,
          0.07132719551168021,
          2.65562670272857,
          0.37582230088484364,
          -1.9046553894477265,
          2.630854040542106,
          0.41906580104115865,
          -1.081361217758409,
          -0.024915438651601788,
          -1.4932607499303956,
          2.672906239737683,
          2.6529217025564247,
          2.564850502359547,
          2.6996121797009742,
          2.6852046405162646,
          2.683687684157102,
          1.6930588604031942,
          -0.551579789078623,
          -1.0983812351279045,
          -1.7954087525214433,
          1.7553464751819436,
          -1.1290734975989967,
          0.20605629205724443,
          0.34138224379154025,
          0.396198648833392,
          -0.18773779828855408,
          -0.014322503952261588,
          -3.278108960890981,
          1.756741470056688,
          1.914272958743195,
          -1.6570685169768629,
          1.7633553677850935,
          2.2737566148542157,
          -0.22681801874691712,
          0.2579681217618505,
          -0.4482197075921362,
          1.4880058055154262,
          -0.7236515576805811,
          0.7705466082219847,
          -0.4451187314757954,
          1.749774700515038,
          1.1985385241759214,
          0.8065335046088624,
          -1.8253013027901757,
          -0.22284075894587768,
          -1.1462776460003319,
          0.8631186519353905,
          -1.096295750398067,
          1.701986284541626,
          2.2244071533545418,
          0.7813824462557484,
          2.4729448797938676,
          0.3651225396880011,
          2.4838388125809243,
          2.241314125519394,
          3.6232558407915523,
          3.8186461734537684,
          0.7121829505764983,
          0.712517218763446,
          -3.087381588488834,
          -3.2662882712868972,
          -3.720776213142582,
          -0.49860373531093405,
          0.3238946953791724,
          0.2946679516859873,
          -1.0468245948996904,
          1.5928218099461586,
          -1.6036661454891399,
          -1.1807181606270198,
          3.6193619566661006,
          0.7684176217694854,
          0.2541706643787078,
          1.813079709371774,
          1.4731903571553735,
          3.761858787887894,
          0.5026987254572398,
          2.430012722973053,
          2.4281969401872545,
          2.413501818545876,
          2.0283350662703334,
          -0.08441921737791099,
          -3.725985170459434,
          0.8183565015027198,
          2.2457387237888313,
          3.627701943033635,
          0.7721192412784679,
          0.7724581295434491,
          6.8105386228621665,
          -1.2566952890248724,
          3.3980546842969686,
          -3.5410371560494154,
          2.019486643729022,
          -3.728369782594699,
          -3.3855557102381417,
          -2.85802271268331,
          -1.95911349221323,
          -1.9449762255945484,
          -1.959113472388104,
          -2.8899263933920305,
          0.23017491244335384,
          -1.5062635002236966,
          -0.18935847500074462,
          -1.5694551317471004,
          -0.11898617900568977,
          -1.5443089374720593,
          0.06781448992669512,
          0.5064227721050928,
          -3.3194069628776317,
          -3.176741591961216,
          0.8331983476215729,
          1.7842789911955685,
          -0.5283163774743262,
          -2.885343973738026,
          2.5346756841850917,
          0.8343832106305378,
          2.2446409229881,
          2.000108358742854,
          2.5139357105309403,
          2.50552617283873,
          0.0034655964704515293,
          0.8383024875360442,
          1.9066796330482854,
          2.1081442077489627,
          2.2459425873304477,
          -0.16361121087484648,
          -1.170069444910639,
          0.028665682994176614,
          2.3054128671379104,
          -0.6687764650182823,
          1.6703675167224399,
          -2.2656416000470654,
          1.7744066311440538,
          2.5390012164815823,
          -1.6052290515152905,
          1.591730585145645,
          2.1532561920950424,
          2.0513858382625876,
          0.2973231223222064,
          0.3065401515613333,
          -3.4601686666269456,
          -3.6834295279487175,
          -0.1618022806499284,
          0.43042990262287895,
          -0.7318881439707656,
          -0.6905250004311544,
          0.30545461304958915,
          1.1816552602547747,
          2.6960696964253703,
          0.028589162870607882,
          2.000746637327952,
          1.9727000303695799,
          2.200785819921411,
          -3.3895812423090934,
          3.8131269900975924,
          3.797297210657624,
          2.722759722091671,
          2.2184153881742366,
          -3.4293771457427815,
          1.7308491743530725,
          1.587644704750768,
          0.8675272395756791,
          0.664135542687908,
          0.03228380498827769,
          -3.6675760520054883,
          -2.9803567349315006,
          -3.0518661503030504,
          -3.4070626684674257,
          -2.83324639272448,
          -3.2610256633376458,
          0.3119230830450839,
          -3.16215642340062,
          -1.9477813943862792,
          0.5751668974144388,
          0.3172628629393138,
          -3.2577214397211436,
          -3.494635539892633,
          -1.4478184733073185,
          -1.4872558885577019,
          -1.2581597393473662,
          0.32820253826456114,
          -0.08439946349220176,
          -0.1204543976941708,
          -0.03523641472360239,
          -0.3898506657559742,
          -0.7300535251194544,
          -0.9753736877490351,
          -2.318940239172572,
          -2.1543903689229693,
          2.146349301739952,
          1.3496108492186578,
          1.6943706600161268,
          1.9739410227455547,
          -1.2429610009299152,
          -3.0224746513010965,
          6.815214683862951,
          -2.604024902585402,
          6.835286264234775,
          2.1294909552581616,
          -3.2249660609965023,
          2.70061581204121,
          -0.678120471776832,
          2.3895446284946487,
          2.2211688885439913,
          0.8744465113314291,
          2.722775949108662,
          2.7465151537914103,
          2.0775796547340244,
          3.1305076157753393,
          2.734968997666523,
          3.8143376466189864,
          2.8776538579788067,
          2.0450422226508174,
          -0.7805599839481142,
          3.7978105315884436,
          -2.310484901174211,
          -1.7731699694636045,
          0.8764488990819109,
          0.7301664579364067,
          3.7978529041345426,
          2.395225681478506,
          -3.228199875422581,
          1.9159883352749734,
          3.8051363867364416,
          -3.695173448206316,
          0.22087761945501247,
          -3.485216885153038,
          -3.244591582569199,
          -1.0540930954013332,
          -1.2145541868830776,
          3.435058571744507,
          -3.676798662517681,
          1.1964093591613671,
          1.8598505751518555,
          -3.284109127928748,
          2.1264070946041063,
          2.8845459140754603,
          1.8835507255427026,
          -2.279876286994598,
          -2.9533829580524986,
          -2.1561662301732714,
          -2.8559261991995375,
          -3.616587824196782,
          2.205206682492161,
          -3.0942107233803777,
          -2.892679711159647,
          3.104496368105948,
          -0.7545499496016622,
          -2.4431446816569076,
          -2.4572832265937676,
          -3.1969452679432417,
          -0.09785121166034169,
          -1.8056996027104912,
          2.3889466762290845,
          2.2328470598834533,
          -3.183488819954082,
          -3.637182579888312,
          2.032836807559962,
          -3.148551100088268,
          2.358800888957793,
          2.027406338215981,
          1.3638854230238608,
          1.3449739198524933,
          -3.6277834396098747,
          2.3108330550762033,
          -3.682962127803245,
          -1.5490142884685998,
          1.8647185756652807,
          1.7226484899222612,
          0.8609887266150934,
          2.187105113935423,
          3.7879145108924956,
          2.601823232119662,
          -1.9367275931190227,
          2.6583430123758656,
          0.4500241771811761,
          -3.6617853260619806,
          -2.9878226329613193,
          3.089396250841843,
          -3.6611928335732444,
          -3.4400478827674803,
          3.095368030516922,
          0.7856333608501552,
          -2.3105463557382353,
          -2.1622410685958218,
          6.831441507570591,
          -2.8144771505110513,
          -3.389392717686353,
          -3.5156715241968666,
          2.0267960899709463,
          -3.275004743623345,
          -2.817446880184566,
          -2.2351088703023096,
          -3.6124678966919257,
          -1.340124900560518,
          -3.46764799687552,
          1.5645847816730059,
          1.776086039651595,
          -2.309855649485592,
          -2.9370340160026243,
          -3.2429507390042005,
          -3.485784670544087,
          -2.580245386278024,
          -3.1983010743047555,
          -1.453627726651548,
          -2.139360835407692,
          -2.552636727804363,
          2.086102407743268,
          -3.478405126074617,
          0.34631254747381307,
          2.065032841033503,
          2.0612350589327426,
          2.3121065231500677,
          2.0437708820402096,
          3.136860045838524,
          2.0152186960741454,
          2.02729236603867,
          -1.328508011485971,
          -3.3823763262138065,
          -1.9840587475104938,
          3.811351387952255,
          -2.8888083770619333,
          -2.6551819636602563,
          0.058146299811967825,
          1.982696624626858,
          -3.440809911216146,
          -1.8227775327003877,
          -3.088889725349921,
          -2.5556831700052385,
          -3.604340702312285,
          3.1226167231808835,
          -3.289985744307133,
          2.216357006059006,
          3.6878271043814026,
          -3.1499486437040174,
          -2.8813344999874873,
          -3.629968931418651,
          -3.428652813700347,
          -2.303728410397154,
          1.8425090909731958,
          0.32465035076541954,
          -1.8193217098307917,
          1.9856605372971046,
          2.45926073273583,
          2.4608068383085,
          2.244777095760772,
          2.4319749666669686,
          2.672903796789706,
          2.5706269781225592,
          2.238429660793623,
          -3.390851724373561,
          -3.6160163485217534,
          -2.8712591265656657,
          2.300904436550206,
          1.8283273548555776,
          0.8439455976386956,
          -3.4223792821043144,
          -3.639993120032246,
          -3.4037075979445452,
          2.662793773701505,
          -3.3837408008349463,
          -0.9715250608333075,
          -3.174643591099489,
          -1.0501637925324858,
          2.255024801900576,
          6.844393214308676,
          -3.609215946215745,
          0.8170167389929671,
          2.2249498428284316,
          -3.6163989557902485,
          -3.626385188750646,
          -2.8575749607906173,
          -3.2820821876038937,
          -3.5035309377857424,
          1.8755927933470542,
          2.650736730994343,
          -1.5655713015353423,
          -3.3843726130381113,
          2.6308308882850193,
          -2.2780120474421213,
          -3.0156731108049604,
          2.2410561104318227,
          3.6432148148071093,
          3.4121204146600284,
          -2.886384160350633,
          3.668725843874762,
          2.123377764877006,
          2.4404246742752527,
          -2.8794446979513553,
          -2.9045306892009544,
          -3.19977357433786,
          -2.021650242644888,
          -2.2701964320686803,
          -2.9040851386285613,
          -2.812338124478302,
          -3.5004828927520832,
          0.0655355840473078,
          -1.3224837966827414,
          -2.1370553350130086,
          -1.4305795732823305,
          -3.452036781625837,
          -3.3967455118693004,
          -3.697271710876881,
          -2.9509480951630964,
          -3.6268279683584024,
          -2.8705492558010905,
          -3.620634649945405,
          -3.375478461465884,
          -2.548710878416613,
          -3.43458256446997,
          -3.1604634501703317,
          2.2927495146119794,
          1.8226242888790116,
          -3.392702832904815,
          6.84479632310119,
          3.6894328194400905,
          6.829359609324474,
          6.843105624914641,
          6.836600547126993,
          -3.1825201428819256,
          1.885005939051707,
          1.716677520524643,
          6.83898742927286,
          6.83898742927286,
          -3.6157123245965272,
          -3.6086047071779284,
          2.282258641583947,
          2.2599512082023727,
          6.84052210916896,
          6.7441107926093915,
          -2.865241946921657,
          6.8249888816192845,
          6.814613088820102,
          -2.213463057319902,
          1.3863376985134175,
          6.825004514633473,
          -3.2023090423261324,
          6.791727075456291,
          6.791727223848306,
          -3.236224368653163,
          -2.820724153764305,
          -2.797955586663054,
          -2.826887082163665,
          2.2934089185110857,
          -3.2562526118606683,
          -3.480246612774261,
          -2.8314984921077233,
          -3.2628510413161336,
          -3.5988106046293646,
          0.26768174153862145,
          -2.827320924574134,
          1.5584506706069798,
          1.8764910198545897,
          1.4404510474139358,
          -3.6011917548942844,
          3.0303769339623514,
          -3.259820581174768,
          -3.589300420109579,
          -3.168630469109499,
          -2.135639867373344,
          -0.9725893117266741,
          -0.568778510880165,
          -2.2534804287625314,
          -3.395208432508932,
          -3.391628602663049,
          -2.1510545367394616,
          3.686559703953594,
          2.2978822187540366,
          6.788580737361954,
          -3.4297140014698173,
          -2.156223738548751,
          6.822020916845196,
          -3.3871817396014663,
          2.041890451807495,
          3.6716971748850935,
          0.24592627427961894,
          -3.267680080305779,
          -3.46220844054125,
          -3.2935882223980664,
          -3.398960942713612,
          3.030972780767464,
          -3.4626021701418175,
          1.8236128161644647,
          -3.090137828608091,
          -3.090137828608091,
          1.1701671066753423,
          -3.291692555823875,
          1.7443391789862106,
          1.8971438536977576,
          -3.1850002034028013,
          -3.067067190715762,
          -2.0713490912259562,
          3.0227934317215337,
          2.2021747101856297,
          0.7776810294379962,
          1.594801676213813,
          -3.6376670997381098,
          -3.6155885206111074,
          5.176377075873408,
          5.1912472565837415,
          5.1912472565837415,
          5.1980178807242154,
          5.1980178807242154,
          2.0421726958816384,
          5.19215471235341,
          5.16128763013928,
          5.146117833052993,
          2.254906152515194,
          1.7928059034662263,
          -2.836142219536005,
          5.1944243194671955,
          2.272001010428731,
          5.420915488711783,
          5.143128910546494,
          5.420946739772097,
          5.188855970795819,
          -2.8387957724318507,
          -3.3819960876951956,
          -3.1674329054894534,
          -3.491370309758586,
          -3.2447361716408354,
          -2.0631119407763907,
          -2.192902913354466,
          -0.4735040354353347,
          -3.5901728097690793,
          -3.4574021851571466,
          -3.021987307120615,
          1.9042589095511648,
          0.11683157316728286,
          0.0763222168642615,
          -3.3945000230851408,
          -3.5943790410292578,
          2.0650887749853166,
          2.0657740380192924,
          2.854647649289938
         ],
         "z": [
          -8.236777889615023,
          6.960806759164546,
          1.7730791926596259,
          -5.5836907578473705,
          1.3587158249186608,
          0.1926483260748429,
          2.327506730708129,
          2.3570022591000184,
          -5.195778249702791,
          -0.9626367903207897,
          3.9634635876185014,
          -4.420304414554414,
          -5.316833379725103,
          2.1762118257505128,
          5.044542372340455,
          -1.105017114083401,
          4.215804388605795,
          -1.2128121357586825,
          2.795132387843182,
          -0.3113181326401991,
          -1.2234894467296276,
          2.667475891643047,
          -2.1475196754593626,
          3.3342385124166656,
          1.3544024642900134,
          -1.5136288310875294,
          -1.517332229449255,
          -1.1105708037827418,
          -1.4718458931864866,
          -1.5230386708701813,
          -1.5165715966819815,
          3.026025317458711,
          -4.789417564949734,
          -2.3986961095523998,
          2.8615631878751775,
          2.8761729729131704,
          -2.3593625757546723,
          -0.7342623052126096,
          1.763078536518104,
          -0.5000411267740797,
          1.7863605165003948,
          1.801940935607904,
          -0.3433658824171226,
          2.7730519392846715,
          2.827356907980627,
          2.200957122638891,
          3.0818903000076743,
          1.0662467680915255,
          6.174112447831681,
          2.2091486383195873,
          3.2899413155761734,
          3.213881324899217,
          -4.322797716961393,
          4.586894381010932,
          3.2430035849105487,
          2.6838907946364436,
          0.7374239220842602,
          4.413342297124536,
          1.4495244272352437,
          -6.391769767239953,
          -2.428340158041397,
          4.374795004540266,
          -2.745531168861828,
          2.8261338246156993,
          1.684113205960438,
          1.9267111265702688,
          1.1759168458707634,
          6.9340375228739175,
          1.1259341626836565,
          0.7880021716474744,
          -2.8894927516870608,
          -0.5823380969684756,
          0.6831227509940914,
          0.6807959184678658,
          3.08746551860105,
          0.03176431954156837,
          0.8746893015659529,
          -4.941456352326775,
          1.4538379660843999,
          1.3923085429505413,
          0.9873118799578883,
          -0.4267247186414133,
          1.71686439081383,
          0.8596936940971487,
          -2.8933785778028773,
          1.7787509704126767,
          2.060178282834527,
          2.6246978282602687,
          2.918292051146591,
          -0.5850895768480248,
          1.9748117100697353,
          1.6008931614836581,
          1.605211569257407,
          1.6334500111925485,
          2.087795847237483,
          -4.9422451993067,
          0.6765033370541829,
          4.103067906015277,
          1.548486335198424,
          -2.961401321991458,
          4.7903035561904765,
          4.787898712978918,
          -3.8715277088327085,
          -0.22040036298919347,
          -2.421471039449374,
          0.6412983427365725,
          4.099019726378255,
          0.6265535527890661,
          -0.3354587359198238,
          -0.8925463460101092,
          -0.07841332597004864,
          -0.08549980882676661,
          -0.07841397597599797,
          -1.1565351742602115,
          -1.098928574795941,
          -2.0475900383683845,
          -6.624252703154712,
          0.6966839831636363,
          -4.931753699296806,
          0.7226768488827301,
          1.9736090547463927,
          3.1198314767912305,
          -0.04331455225825137,
          -0.5419092801909101,
          3.952871417436076,
          2.4677760444924908,
          -0.5231851237367885,
          -0.7785923618947203,
          0.9434890664233782,
          3.9408808428155893,
          1.4403390348242062,
          1.9925375890732953,
          1.3932957860969022,
          1.4248391197533012,
          5.39808942017068,
          3.8778689962592368,
          -1.0729223134417945,
          1.7537532817624704,
          1.1585439300004388,
          -6.708554901331103,
          0.569132046270606,
          1.3816307932541017,
          1.1062446712430636,
          -0.3784016669749055,
          2.348247784824452,
          -2.2310821615103933,
          2.4427024352507964,
          1.1702469494264713,
          0.3332823431948667,
          2.304681005132058,
          1.478525179346133,
          1.6145413077701154,
          1.2128681887861856,
          1.2096121952846273,
          -0.21569446078849208,
          0.15285121380713257,
          1.032891737043338,
          0.9106335581460486,
          -0.26455553997747205,
          -0.40658342278592347,
          1.4709961445448692,
          3.77617725124479,
          -2.05628544831213,
          5.14285340801866,
          1.9738968935671881,
          1.8847117926115933,
          0.8384287084714666,
          -0.6805776365593028,
          -0.919793147564705,
          -0.9001555062596278,
          0.5577853177708022,
          1.3259354332686586,
          -0.4319440770228074,
          1.9244789592790703,
          -0.7993880654633186,
          3.6054699562545167,
          3.7570600307789244,
          5.105318700349246,
          0.015953266345874836,
          -1.1792810540865637,
          -0.8914398524422718,
          -0.6453544119931509,
          -1.1979327175571042,
          -0.5209209395472929,
          0.12140734403413175,
          -0.7212535504717116,
          -0.4499585599963394,
          2.595115225050723,
          0.11065553592767109,
          -0.09176328610691861,
          -0.03601187499561119,
          -0.635742894218834,
          -0.392702617397648,
          -0.45611693829063016,
          -0.05618271319411615,
          -5.134339215072601,
          -5.01001875937,
          -10.111708227134493,
          -6.034704175683877,
          -4.4248320080607115,
          -3.7492006128055064,
          -2.068375676910967,
          -2.1447257412043097,
          1.5062835864174708,
          3.5469968283834943,
          2.1283043500527903,
          1.3876896054187362,
          0.6526049294179296,
          -0.9557258817701235,
          -4.0500440528865065,
          -1.478834121643056,
          -4.151627017347155,
          1.8705547436490686,
          -0.767294030705861,
          -2.100317793331192,
          -0.4688370881506342,
          1.5027023450795598,
          1.2615929813339202,
          3.5354483219566943,
          0.5090596831837618,
          0.5641196932046074,
          1.4241647886354443,
          -0.009814481226083143,
          0.5257822547196879,
          -0.9696979901649253,
          0.41991400774513704,
          1.5339509652209538,
          1.8456846268362346,
          -0.9424666422727296,
          1.8014966616351167,
          0.3575798105547464,
          3.515184561876717,
          3.7746342648080202,
          -0.9458169068988529,
          1.4628402326912386,
          -0.7371659783952492,
          1.6128649183684385,
          -0.96755594957869,
          -0.23570723519550546,
          0.699151791725337,
          -0.17418535352539424,
          -0.6088718628854644,
          0.16750604934725258,
          1.8653254137785036,
          -2.7867811861545557,
          0.02757920867159447,
          1.790054491643324,
          1.8355777924129828,
          -0.5030029262191433,
          2.1466177359786567,
          0.35622355043945436,
          1.9586138022805706,
          -2.374730017336127,
          -1.5570648147554336,
          -2.22302674186515,
          -1.1044315786912484,
          -0.3397223297518731,
          0.970144805021742,
          -1.168195934061765,
          -1.3541269977190418,
          0.10034909279925469,
          -0.1671348041762709,
          0.7037859070339738,
          0.7402694331128041,
          -0.987678493653209,
          -5.179717375356342,
          0.5105027676723721,
          1.3512982680647494,
          1.2369591613923752,
          -0.6826797307194915,
          -0.2733270613129407,
          1.2649802758859754,
          -0.9272493944688809,
          1.4849755441657775,
          1.2648031191719165,
          3.4211275447088685,
          3.534255034294657,
          -0.34793346744725834,
          1.1054556874264723,
          -0.3566204713581612,
          0.21037441989709918,
          1.7534446807934452,
          1.9443625804665288,
          0.903898733935131,
          0.9884193525516599,
          -0.9237844743990483,
          1.5796490386859776,
          -0.6039540262528652,
          0.9615361940837839,
          0.5587686140149575,
          -0.12060597817625028,
          -1.2545580590432026,
          0.21862659427587122,
          -0.12645401937672898,
          -0.5051165812784826,
          0.17548254579171904,
          3.3123735366912648,
          -2.182482886127426,
          -2.209246822665714,
          -4.211412731471918,
          -1.432013207226485,
          -0.8388940703440523,
          -0.0717114950944198,
          1.2404572499060247,
          -0.5888171322273621,
          -1.4069219781052205,
          0.7718420448094999,
          -0.4557423702211061,
          -0.36268317965811875,
          -0.39423530563143155,
          2.035689065231329,
          1.9741379111835335,
          -2.190101309753796,
          -1.054797097001872,
          -0.24188099014621672,
          -0.28193125943508385,
          -1.6895819374258207,
          -1.0014585191194254,
          -0.713841860979771,
          -2.351993790554425,
          -1.8402296673337992,
          1.3819060744388945,
          -0.3668386982124176,
          -0.20692809501435117,
          1.4980010480091508,
          1.3482074703409554,
          1.087663859725685,
          1.6323701721541104,
          -0.11129589419242282,
          1.5501338167517813,
          1.4956774402008322,
          -0.46367912973613784,
          -0.9195212897212968,
          0.17422682278048046,
          -1.0838164568950266,
          -1.425674690405895,
          -1.1663980071097906,
          4.842575746663341,
          1.7924190996685134,
          -0.4852660486725257,
          0.8588332359547425,
          -0.46644453457455265,
          -1.857816790427589,
          -0.5318746275006351,
          -0.07486602908681682,
          -0.46368010408120175,
          1.2644897597828724,
          -3.5098940501632745,
          -1.5900165267117337,
          -1.4568278120266303,
          -0.38315394598135477,
          -0.5950392988804046,
          -2.2335880408202313,
          1.8275701556231763,
          2.1961405740936435,
          0.8225555237921688,
          1.7625137848754295,
          1.2055956551536908,
          1.1911495689883482,
          1.49538124138038,
          1.3756588318800083,
          0.9382674167221353,
          1.6265600581418775,
          1.5114887352452888,
          -0.9157447505938462,
          -0.5181453557998155,
          -1.5013952785676663,
          0.003230353076446293,
          1.5667828430742898,
          0.537939921122522,
          -0.652190558218556,
          -0.3333941300899656,
          -0.795328195615943,
          0.9534635129320521,
          -0.8983072909739734,
          -0.2211235838428084,
          -1.1923695740671645,
          -0.006146339971565421,
          1.0590120772118037,
          -4.311753984327774,
          -0.5321660010941252,
          0.708743693189458,
          1.1838983408081276,
          -0.5193589001225958,
          -0.41990728093894536,
          -1.718144256129143,
          -0.5538000064707115,
          -0.19067860615212245,
          1.7732077384279668,
          1.4561131003846353,
          0.23136532507417068,
          -0.92974269779612,
          1.5923645274769378,
          -2.451141604041748,
          -1.253279018260973,
          1.071600262789455,
          -3.2122971336054293,
          -2.6534301602406756,
          -1.464220823459956,
          -3.453324849166375,
          2.0278286795800002,
          1.711059645851661,
          -1.5066999144012305,
          -1.3374567586455897,
          -1.0152297332655467,
          0.4504668602026194,
          -2.506134932776281,
          -1.3287531883312547,
          -1.5747822316466227,
          -0.22054677723946287,
          4.767506331324512,
          -0.5482605891451424,
          -2.4297020854909706,
          -0.815633304854722,
          -0.5561277127236727,
          -0.8754950718034209,
          0.07666883721744962,
          -1.5280548853550595,
          -0.4581939540677189,
          -1.5396818783907589,
          -0.4833651571958291,
          -0.9766851289605791,
          -1.9263499134283344,
          -0.5562825450946873,
          -1.3106883912795149,
          0.04291301186620247,
          1.959692995405791,
          -0.989273313652327,
          -4.3241389787970705,
          -3.595359356369605,
          -4.2734372125941045,
          -4.370658169782406,
          -4.287712882192098,
          -1.1369287653845785,
          1.5336631470686874,
          1.8664337494801742,
          -4.330122265403426,
          -4.330122265403426,
          -0.5029724016761487,
          -0.5755539150656872,
          0.13994607078260302,
          0.31106847602005583,
          -4.342977965358695,
          -3.623003833991933,
          -1.664287438197898,
          -4.196486662065187,
          -4.145058138759113,
          0.5643044361277664,
          3.2231439870525915,
          -4.196957155188343,
          -1.0157938985351151,
          -3.9551986755932447,
          -3.955201174277309,
          -0.9236312228658586,
          -1.368221345473849,
          -1.5792983767534963,
          -1.339622244988941,
          0.01986212423808897,
          -0.8642108938931732,
          -0.39939236087988755,
          -1.3340628056910981,
          -0.7088594881731901,
          -0.6488595651924706,
          1.5900839319029605,
          -1.3832908920536935,
          2.052357603361284,
          1.5548195019404465,
          1.434870631240315,
          -0.6601814179100514,
          0.8662434379471462,
          -0.7401278480108145,
          -0.7035207131334901,
          -1.2914572094655745,
          -2.455337757342938,
          -0.2650178308557647,
          -0.36686731165009834,
          -2.631530341140658,
          -0.8610886370865861,
          -0.9181227312655904,
          -2.3221217413848922,
          -3.578688272875263,
          -0.004448125173980574,
          -3.9475537861765955,
          -0.60026059670581,
          -2.2978896484642486,
          -4.201575351245295,
          -0.9562838165117047,
          1.337209250590813,
          -3.431482278048912,
          0.42833118371538476,
          -0.6890573373671938,
          -0.5535559109535602,
          -0.486141139117603,
          -0.8542887619944179,
          0.8556875693267497,
          -0.5656962684937811,
          1.5479389432629025,
          -1.2509293836770277,
          -1.2509293836770277,
          1.8955556525929955,
          -0.5039720160269264,
          -1.1062982402608195,
          1.5413617420544024,
          -1.1496993804445947,
          -1.4418103499237094,
          0.7783854273420585,
          0.9134812324591068,
          0.8348942547842731,
          1.403274526508005,
          1.7676488542330762,
          -0.36134667685041283,
          -0.5341520748641739,
          -1.9140507821402397,
          -2.014916489703831,
          -2.014916489703831,
          -2.0059179205557,
          -2.0059179205557,
          1.3206171003230227,
          -2.011714053433879,
          -1.7645767604947282,
          -1.625502065082823,
          0.38411439807168785,
          1.8080109932591644,
          -1.8999971048535802,
          -2.012090494115866,
          0.8406949311560898,
          -2.5146152101150756,
          -1.6162151629990138,
          -2.514949664448527,
          -1.9840734592100289,
          -1.8492390268605934,
          -1.0251147947725585,
          -1.2628043877308348,
          -0.30984210748945673,
          -0.8895108822521423,
          0.7016514201103059,
          0.35560846548783603,
          -1.0980826462528384,
          -0.7478875387575848,
          -0.610444063120615,
          -1.2713143005516954,
          1.5016996692506601,
          0.04918242038921913,
          0.4116375096496395,
          -0.9093667158127323,
          -0.76074385772489,
          1.601595063402156,
          1.5985558872083891,
          0.6131168303785874
         ]
        },
        {
         "hovertemplate": "color=1226955<br>Principal Component 1=%{x}<br>Principal Component 2=%{y}<br>Principal Component 3=%{z}<extra></extra>",
         "legendgroup": "1226955",
         "marker": {
          "color": "#00cc96",
          "symbol": "circle"
         },
         "mode": "markers",
         "name": "1226955",
         "scene": "scene",
         "showlegend": true,
         "type": "scatter3d",
         "x": [
          14.626326595626798
         ],
         "y": [
          -1.990806983042244
         ],
         "z": [
          8.799559892271297
         ]
        },
        {
         "hovertemplate": "color=1210171<br>Principal Component 1=%{x}<br>Principal Component 2=%{y}<br>Principal Component 3=%{z}<extra></extra>",
         "legendgroup": "1210171",
         "marker": {
          "color": "#ab63fa",
          "symbol": "circle"
         },
         "mode": "markers",
         "name": "1210171",
         "scene": "scene",
         "showlegend": true,
         "type": "scatter3d",
         "x": [
          18.099539545596205
         ],
         "y": [
          -1.694731774645925
         ],
         "z": [
          3.4715142398610537
         ]
        },
        {
         "hovertemplate": "color=1302462<br>Principal Component 1=%{x}<br>Principal Component 2=%{y}<br>Principal Component 3=%{z}<extra></extra>",
         "legendgroup": "1302462",
         "marker": {
          "color": "#FFA15A",
          "symbol": "circle"
         },
         "mode": "markers",
         "name": "1302462",
         "scene": "scene",
         "showlegend": true,
         "type": "scatter3d",
         "x": [
          17.89463656782048
         ],
         "y": [
          -1.66745962638327
         ],
         "z": [
          3.2558740302249416
         ]
        },
        {
         "hovertemplate": "color=1209043<br>Principal Component 1=%{x}<br>Principal Component 2=%{y}<br>Principal Component 3=%{z}<extra></extra>",
         "legendgroup": "1209043",
         "marker": {
          "color": "#19d3f3",
          "symbol": "circle"
         },
         "mode": "markers",
         "name": "1209043",
         "scene": "scene",
         "showlegend": true,
         "type": "scatter3d",
         "x": [
          8.82298978975241
         ],
         "y": [
          -0.5510100884776596
         ],
         "z": [
          7.134959797209481
         ]
        },
        {
         "hovertemplate": "color=1225028<br>Principal Component 1=%{x}<br>Principal Component 2=%{y}<br>Principal Component 3=%{z}<extra></extra>",
         "legendgroup": "1225028",
         "marker": {
          "color": "#FF6692",
          "symbol": "circle"
         },
         "mode": "markers",
         "name": "1225028",
         "scene": "scene",
         "showlegend": true,
         "type": "scatter3d",
         "x": [
          6.830524789009167
         ],
         "y": [
          -0.2500563894170142
         ],
         "z": [
          2.3394243078081614
         ]
        }
       ],
       "layout": {
        "legend": {
         "title": {
          "text": "color"
         },
         "tracegroupgap": 0
        },
        "scene": {
         "domain": {
          "x": [
           0,
           1
          ],
          "y": [
           0,
           1
          ]
         },
         "xaxis": {
          "title": {
           "text": "Principal Component 1"
          }
         },
         "yaxis": {
          "title": {
           "text": "Principal Component 2"
          }
         },
         "zaxis": {
          "title": {
           "text": "Principal Component 3"
          }
         }
        },
        "template": {
         "data": {
          "bar": [
           {
            "error_x": {
             "color": "#2a3f5f"
            },
            "error_y": {
             "color": "#2a3f5f"
            },
            "marker": {
             "line": {
              "color": "#E5ECF6",
              "width": 0.5
             },
             "pattern": {
              "fillmode": "overlay",
              "size": 10,
              "solidity": 0.2
             }
            },
            "type": "bar"
           }
          ],
          "barpolar": [
           {
            "marker": {
             "line": {
              "color": "#E5ECF6",
              "width": 0.5
             },
             "pattern": {
              "fillmode": "overlay",
              "size": 10,
              "solidity": 0.2
             }
            },
            "type": "barpolar"
           }
          ],
          "carpet": [
           {
            "aaxis": {
             "endlinecolor": "#2a3f5f",
             "gridcolor": "white",
             "linecolor": "white",
             "minorgridcolor": "white",
             "startlinecolor": "#2a3f5f"
            },
            "baxis": {
             "endlinecolor": "#2a3f5f",
             "gridcolor": "white",
             "linecolor": "white",
             "minorgridcolor": "white",
             "startlinecolor": "#2a3f5f"
            },
            "type": "carpet"
           }
          ],
          "choropleth": [
           {
            "colorbar": {
             "outlinewidth": 0,
             "ticks": ""
            },
            "type": "choropleth"
           }
          ],
          "contour": [
           {
            "colorbar": {
             "outlinewidth": 0,
             "ticks": ""
            },
            "colorscale": [
             [
              0,
              "#0d0887"
             ],
             [
              0.1111111111111111,
              "#46039f"
             ],
             [
              0.2222222222222222,
              "#7201a8"
             ],
             [
              0.3333333333333333,
              "#9c179e"
             ],
             [
              0.4444444444444444,
              "#bd3786"
             ],
             [
              0.5555555555555556,
              "#d8576b"
             ],
             [
              0.6666666666666666,
              "#ed7953"
             ],
             [
              0.7777777777777778,
              "#fb9f3a"
             ],
             [
              0.8888888888888888,
              "#fdca26"
             ],
             [
              1,
              "#f0f921"
             ]
            ],
            "type": "contour"
           }
          ],
          "contourcarpet": [
           {
            "colorbar": {
             "outlinewidth": 0,
             "ticks": ""
            },
            "type": "contourcarpet"
           }
          ],
          "heatmap": [
           {
            "colorbar": {
             "outlinewidth": 0,
             "ticks": ""
            },
            "colorscale": [
             [
              0,
              "#0d0887"
             ],
             [
              0.1111111111111111,
              "#46039f"
             ],
             [
              0.2222222222222222,
              "#7201a8"
             ],
             [
              0.3333333333333333,
              "#9c179e"
             ],
             [
              0.4444444444444444,
              "#bd3786"
             ],
             [
              0.5555555555555556,
              "#d8576b"
             ],
             [
              0.6666666666666666,
              "#ed7953"
             ],
             [
              0.7777777777777778,
              "#fb9f3a"
             ],
             [
              0.8888888888888888,
              "#fdca26"
             ],
             [
              1,
              "#f0f921"
             ]
            ],
            "type": "heatmap"
           }
          ],
          "heatmapgl": [
           {
            "colorbar": {
             "outlinewidth": 0,
             "ticks": ""
            },
            "colorscale": [
             [
              0,
              "#0d0887"
             ],
             [
              0.1111111111111111,
              "#46039f"
             ],
             [
              0.2222222222222222,
              "#7201a8"
             ],
             [
              0.3333333333333333,
              "#9c179e"
             ],
             [
              0.4444444444444444,
              "#bd3786"
             ],
             [
              0.5555555555555556,
              "#d8576b"
             ],
             [
              0.6666666666666666,
              "#ed7953"
             ],
             [
              0.7777777777777778,
              "#fb9f3a"
             ],
             [
              0.8888888888888888,
              "#fdca26"
             ],
             [
              1,
              "#f0f921"
             ]
            ],
            "type": "heatmapgl"
           }
          ],
          "histogram": [
           {
            "marker": {
             "pattern": {
              "fillmode": "overlay",
              "size": 10,
              "solidity": 0.2
             }
            },
            "type": "histogram"
           }
          ],
          "histogram2d": [
           {
            "colorbar": {
             "outlinewidth": 0,
             "ticks": ""
            },
            "colorscale": [
             [
              0,
              "#0d0887"
             ],
             [
              0.1111111111111111,
              "#46039f"
             ],
             [
              0.2222222222222222,
              "#7201a8"
             ],
             [
              0.3333333333333333,
              "#9c179e"
             ],
             [
              0.4444444444444444,
              "#bd3786"
             ],
             [
              0.5555555555555556,
              "#d8576b"
             ],
             [
              0.6666666666666666,
              "#ed7953"
             ],
             [
              0.7777777777777778,
              "#fb9f3a"
             ],
             [
              0.8888888888888888,
              "#fdca26"
             ],
             [
              1,
              "#f0f921"
             ]
            ],
            "type": "histogram2d"
           }
          ],
          "histogram2dcontour": [
           {
            "colorbar": {
             "outlinewidth": 0,
             "ticks": ""
            },
            "colorscale": [
             [
              0,
              "#0d0887"
             ],
             [
              0.1111111111111111,
              "#46039f"
             ],
             [
              0.2222222222222222,
              "#7201a8"
             ],
             [
              0.3333333333333333,
              "#9c179e"
             ],
             [
              0.4444444444444444,
              "#bd3786"
             ],
             [
              0.5555555555555556,
              "#d8576b"
             ],
             [
              0.6666666666666666,
              "#ed7953"
             ],
             [
              0.7777777777777778,
              "#fb9f3a"
             ],
             [
              0.8888888888888888,
              "#fdca26"
             ],
             [
              1,
              "#f0f921"
             ]
            ],
            "type": "histogram2dcontour"
           }
          ],
          "mesh3d": [
           {
            "colorbar": {
             "outlinewidth": 0,
             "ticks": ""
            },
            "type": "mesh3d"
           }
          ],
          "parcoords": [
           {
            "line": {
             "colorbar": {
              "outlinewidth": 0,
              "ticks": ""
             }
            },
            "type": "parcoords"
           }
          ],
          "pie": [
           {
            "automargin": true,
            "type": "pie"
           }
          ],
          "scatter": [
           {
            "fillpattern": {
             "fillmode": "overlay",
             "size": 10,
             "solidity": 0.2
            },
            "type": "scatter"
           }
          ],
          "scatter3d": [
           {
            "line": {
             "colorbar": {
              "outlinewidth": 0,
              "ticks": ""
             }
            },
            "marker": {
             "colorbar": {
              "outlinewidth": 0,
              "ticks": ""
             }
            },
            "type": "scatter3d"
           }
          ],
          "scattercarpet": [
           {
            "marker": {
             "colorbar": {
              "outlinewidth": 0,
              "ticks": ""
             }
            },
            "type": "scattercarpet"
           }
          ],
          "scattergeo": [
           {
            "marker": {
             "colorbar": {
              "outlinewidth": 0,
              "ticks": ""
             }
            },
            "type": "scattergeo"
           }
          ],
          "scattergl": [
           {
            "marker": {
             "colorbar": {
              "outlinewidth": 0,
              "ticks": ""
             }
            },
            "type": "scattergl"
           }
          ],
          "scattermapbox": [
           {
            "marker": {
             "colorbar": {
              "outlinewidth": 0,
              "ticks": ""
             }
            },
            "type": "scattermapbox"
           }
          ],
          "scatterpolar": [
           {
            "marker": {
             "colorbar": {
              "outlinewidth": 0,
              "ticks": ""
             }
            },
            "type": "scatterpolar"
           }
          ],
          "scatterpolargl": [
           {
            "marker": {
             "colorbar": {
              "outlinewidth": 0,
              "ticks": ""
             }
            },
            "type": "scatterpolargl"
           }
          ],
          "scatterternary": [
           {
            "marker": {
             "colorbar": {
              "outlinewidth": 0,
              "ticks": ""
             }
            },
            "type": "scatterternary"
           }
          ],
          "surface": [
           {
            "colorbar": {
             "outlinewidth": 0,
             "ticks": ""
            },
            "colorscale": [
             [
              0,
              "#0d0887"
             ],
             [
              0.1111111111111111,
              "#46039f"
             ],
             [
              0.2222222222222222,
              "#7201a8"
             ],
             [
              0.3333333333333333,
              "#9c179e"
             ],
             [
              0.4444444444444444,
              "#bd3786"
             ],
             [
              0.5555555555555556,
              "#d8576b"
             ],
             [
              0.6666666666666666,
              "#ed7953"
             ],
             [
              0.7777777777777778,
              "#fb9f3a"
             ],
             [
              0.8888888888888888,
              "#fdca26"
             ],
             [
              1,
              "#f0f921"
             ]
            ],
            "type": "surface"
           }
          ],
          "table": [
           {
            "cells": {
             "fill": {
              "color": "#EBF0F8"
             },
             "line": {
              "color": "white"
             }
            },
            "header": {
             "fill": {
              "color": "#C8D4E3"
             },
             "line": {
              "color": "white"
             }
            },
            "type": "table"
           }
          ]
         },
         "layout": {
          "annotationdefaults": {
           "arrowcolor": "#2a3f5f",
           "arrowhead": 0,
           "arrowwidth": 1
          },
          "autotypenumbers": "strict",
          "coloraxis": {
           "colorbar": {
            "outlinewidth": 0,
            "ticks": ""
           }
          },
          "colorscale": {
           "diverging": [
            [
             0,
             "#8e0152"
            ],
            [
             0.1,
             "#c51b7d"
            ],
            [
             0.2,
             "#de77ae"
            ],
            [
             0.3,
             "#f1b6da"
            ],
            [
             0.4,
             "#fde0ef"
            ],
            [
             0.5,
             "#f7f7f7"
            ],
            [
             0.6,
             "#e6f5d0"
            ],
            [
             0.7,
             "#b8e186"
            ],
            [
             0.8,
             "#7fbc41"
            ],
            [
             0.9,
             "#4d9221"
            ],
            [
             1,
             "#276419"
            ]
           ],
           "sequential": [
            [
             0,
             "#0d0887"
            ],
            [
             0.1111111111111111,
             "#46039f"
            ],
            [
             0.2222222222222222,
             "#7201a8"
            ],
            [
             0.3333333333333333,
             "#9c179e"
            ],
            [
             0.4444444444444444,
             "#bd3786"
            ],
            [
             0.5555555555555556,
             "#d8576b"
            ],
            [
             0.6666666666666666,
             "#ed7953"
            ],
            [
             0.7777777777777778,
             "#fb9f3a"
            ],
            [
             0.8888888888888888,
             "#fdca26"
            ],
            [
             1,
             "#f0f921"
            ]
           ],
           "sequentialminus": [
            [
             0,
             "#0d0887"
            ],
            [
             0.1111111111111111,
             "#46039f"
            ],
            [
             0.2222222222222222,
             "#7201a8"
            ],
            [
             0.3333333333333333,
             "#9c179e"
            ],
            [
             0.4444444444444444,
             "#bd3786"
            ],
            [
             0.5555555555555556,
             "#d8576b"
            ],
            [
             0.6666666666666666,
             "#ed7953"
            ],
            [
             0.7777777777777778,
             "#fb9f3a"
            ],
            [
             0.8888888888888888,
             "#fdca26"
            ],
            [
             1,
             "#f0f921"
            ]
           ]
          },
          "colorway": [
           "#636efa",
           "#EF553B",
           "#00cc96",
           "#ab63fa",
           "#FFA15A",
           "#19d3f3",
           "#FF6692",
           "#B6E880",
           "#FF97FF",
           "#FECB52"
          ],
          "font": {
           "color": "#2a3f5f"
          },
          "geo": {
           "bgcolor": "white",
           "lakecolor": "white",
           "landcolor": "#E5ECF6",
           "showlakes": true,
           "showland": true,
           "subunitcolor": "white"
          },
          "hoverlabel": {
           "align": "left"
          },
          "hovermode": "closest",
          "mapbox": {
           "style": "light"
          },
          "paper_bgcolor": "white",
          "plot_bgcolor": "#E5ECF6",
          "polar": {
           "angularaxis": {
            "gridcolor": "white",
            "linecolor": "white",
            "ticks": ""
           },
           "bgcolor": "#E5ECF6",
           "radialaxis": {
            "gridcolor": "white",
            "linecolor": "white",
            "ticks": ""
           }
          },
          "scene": {
           "xaxis": {
            "backgroundcolor": "#E5ECF6",
            "gridcolor": "white",
            "gridwidth": 2,
            "linecolor": "white",
            "showbackground": true,
            "ticks": "",
            "zerolinecolor": "white"
           },
           "yaxis": {
            "backgroundcolor": "#E5ECF6",
            "gridcolor": "white",
            "gridwidth": 2,
            "linecolor": "white",
            "showbackground": true,
            "ticks": "",
            "zerolinecolor": "white"
           },
           "zaxis": {
            "backgroundcolor": "#E5ECF6",
            "gridcolor": "white",
            "gridwidth": 2,
            "linecolor": "white",
            "showbackground": true,
            "ticks": "",
            "zerolinecolor": "white"
           }
          },
          "shapedefaults": {
           "line": {
            "color": "#2a3f5f"
           }
          },
          "ternary": {
           "aaxis": {
            "gridcolor": "white",
            "linecolor": "white",
            "ticks": ""
           },
           "baxis": {
            "gridcolor": "white",
            "linecolor": "white",
            "ticks": ""
           },
           "bgcolor": "#E5ECF6",
           "caxis": {
            "gridcolor": "white",
            "linecolor": "white",
            "ticks": ""
           }
          },
          "title": {
           "x": 0.05
          },
          "xaxis": {
           "automargin": true,
           "gridcolor": "white",
           "linecolor": "white",
           "ticks": "",
           "title": {
            "standoff": 15
           },
           "zerolinecolor": "white",
           "zerolinewidth": 2
          },
          "yaxis": {
           "automargin": true,
           "gridcolor": "white",
           "linecolor": "white",
           "ticks": "",
           "title": {
            "standoff": 15
           },
           "zerolinecolor": "white",
           "zerolinewidth": 2
          }
         }
        },
        "title": {
         "text": "Total Explained Variance: 25.66%"
        }
       }
      }
     },
     "metadata": {},
     "output_type": "display_data"
    }
   ],
   "source": [
    "\n",
    "total_var = pca3.explained_variance_ratio_.sum() * 100\n",
    "fig = px.scatter_3d(\n",
    "    X_reduce,\n",
    "    x=0,\n",
    "    y=1,\n",
    "    z=2,\n",
    "    color=data[\"labels\"],\n",
    "    title=f\"Total Explained Variance: {total_var:.2f}%\",\n",
    "    labels={\n",
    "        \"0\": \"Principal Component 1\",\n",
    "        \"1\": \"Principal Component 2\",\n",
    "        \"2\": \"Principal Component 3\",\n",
    "    },\n",
    ")\n",
    "fig.show()"
   ]
  },
  {
   "cell_type": "code",
   "execution_count": null,
   "metadata": {},
   "outputs": [],
   "source": []
  }
 ],
 "metadata": {
  "kernelspec": {
   "display_name": "Python 3",
   "language": "python",
   "name": "python3"
  },
  "language_info": {
   "codemirror_mode": {
    "name": "ipython",
    "version": 3
   },
   "file_extension": ".py",
   "mimetype": "text/x-python",
   "name": "python",
   "nbconvert_exporter": "python",
   "pygments_lexer": "ipython3",
   "version": "3.11.1"
  }
 },
 "nbformat": 4,
 "nbformat_minor": 2
}
